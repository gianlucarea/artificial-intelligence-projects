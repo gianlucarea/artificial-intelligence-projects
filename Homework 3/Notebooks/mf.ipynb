{
 "cells": [
  {
   "cell_type": "markdown",
   "metadata": {},
   "source": [
    "# Policy Evaluation\n",
    "## Rea Gianluca 278722"
   ]
  },
  {
   "cell_type": "markdown",
   "metadata": {},
   "source": [
    "### Imports"
   ]
  },
  {
   "cell_type": "code",
   "execution_count": 10,
   "metadata": {
    "pycharm": {
     "name": "#%%\n"
    }
   },
   "outputs": [
    {
     "name": "stdout",
     "output_type": "stream",
     "text": [
      "%pylab is deprecated, use %matplotlib inline and import the required libraries.\n",
      "Populating the interactive namespace from numpy and matplotlib\n"
     ]
    },
    {
     "name": "stderr",
     "output_type": "stream",
     "text": [
      "/Users/gianlucarea/Desktop/DSWorkspace/env/lib/python3.8/site-packages/IPython/core/magics/pylab.py:162: UserWarning: pylab import has clobbered these variables: ['random']\n",
      "`%matplotlib` prevents importing * from pylab and numpy\n",
      "  warn(\"pylab import has clobbered these variables: %s\"  % clobbered +\n"
     ]
    }
   ],
   "source": [
    "import numpy as np\n",
    "from tqdm import tqdm\n",
    "import matplotlib.pyplot as plt\n",
    "import seaborn as sns\n",
    "sns.set_style(\"darkgrid\")\n",
    "%pylab inline\n",
    "import random\n",
    "import pandas as pd\n",
    "pd.set_option('display.expand_frame_repr', False)\n"
   ]
  },
  {
   "cell_type": "markdown",
   "metadata": {},
   "source": [
    "# First-visit Monte Carlo"
   ]
  },
  {
   "cell_type": "code",
   "execution_count": 11,
   "metadata": {},
   "outputs": [],
   "source": [
    "### Definitions gridsize, terminationStates, actions_dictionary, actions"
   ]
  },
  {
   "cell_type": "code",
   "execution_count": 12,
   "metadata": {
    "pycharm": {
     "name": "#%%\n"
    }
   },
   "outputs": [],
   "source": [
    "gridsize = [16, 9]\n",
    "\n",
    "terminationStates = [[4,0], [4,7], [12,0], [12,7]]\n",
    "\n",
    "actions_dictionary = {\n",
    "    \"U\":    [-1, 0],\n",
    "    \"D\":    [1, 0],\n",
    "    \"R\":    [0, 1],\n",
    "    \"L\":    [0, -1],\n",
    "    \"W_R\":  [0,0],\n",
    "    \"W_L\":  [0,0],\n",
    "    \"W_D\":  [0,0],\n",
    "    \"W_U\":  [0,0],\n",
    "    \"P\":    [4,0],\n",
    "    \"T_R\":  [0,2],\n",
    "    \"T_L\":  [0,-2]\n",
    "}\n",
    "#up, down, right, left, pick, travel (to right), travel (to left)\n",
    "\n",
    "actions_ = {\n",
    "    #(0,0):('D', 'R', 'L', 'U'),\n",
    "    ### For eggs in pan\n",
    "    (0,0): {'R': -1, 'W_L':-1, 'W_D':-1, 'W_U':-1},\n",
    "    (0,1): {'R': -1, 'L':-1, 'D':-1, 'W_U':-1},\n",
    "    (0,2): {'R': -1, 'L': -1, 'D': -1, 'W_U':-1 },\n",
    "    (0,3): {'W_R': -1, 'L': -1, 'D': -1, 'W_U':-1 },\n",
    "    (0,5): {'R': -1, 'W_L': -1, 'D': -1, 'W_U': -1},\n",
    "    (0,6): {'R': -1, 'L': -1, 'D': -1, 'W_U': -1},\n",
    "    (0,7): {'R': -1, 'L': -1, 'W_D': -1, 'W_U': -1},\n",
    "    (0,8): {'W_R': -1, 'L': -1, 'W_D': -1, 'W_U': -1},\n",
    "\n",
    "    (1,0): {'W_R': -1, 'W_L':-1, 'D': -1, 'W_U':-1, 'P':-1},\n",
    "    (1,1): {'R': -1, 'W_L':-1, 'W_D': -1, 'U': -1},\n",
    "    (1,2): {'R': -1, 'L': -1, 'W_D': -1, 'U': -1 },\n",
    "    (1,3): {'W_R': -1, 'L': -1, 'D': -1, 'U': -1 },\n",
    "    (1,5): {'R': -1, 'W_L': -1, 'D': -1, 'U': -1},\n",
    "    (1,6): {'W_R': -1, 'L': -1, 'D': -1, 'U': -1},\n",
    "    (1,7): {'R': -1, 'W_L': -1, 'D': -1, 'W_U': -1, 'P': -1},\n",
    "    (1,8): {'W_R': -1, 'L': -1, 'D': -1, 'W_U': -1},\n",
    "\n",
    "    (2,0): {'R': -1, 'W_L':-1, 'W_D': -1, 'U': -1},\n",
    "    (2,1): {'R': -1, 'L': -1, 'W_D': -1, 'W_U':-1 },\n",
    "    (2,2): {'R': -1, 'L':-1, 'D': -1, 'W_U': -1 },\n",
    "    (2,3): {'W_R': -1, 'L':-1, 'D': -1, 'U': -1 },\n",
    "    (2,5): {'R': -1, 'W_L': -1, 'D': -1, 'U': -1},\n",
    "    (2,6): {'W_R': -1, 'L': -1, 'D': -1, 'U': -1},\n",
    "    (2,7): {'R': -1, 'W_L': -1, 'W_D': -1, 'U': -1},\n",
    "    (2,8): {'W_R': -1, 'L': -1, 'D': -1, 'U': -1},\n",
    "\n",
    "    (3,0): {'R': -1, 'W_L':-1, 'W_D':-1, 'W_U':-1 },\n",
    "    (3,1): {'R': -1, 'L': -1, 'W_D':-1, 'W_U':-1 },\n",
    "    (3,2): {'R': -1, 'L': -1, 'W_D': -1, 'U': -1 },\n",
    "    (3,3): {'W_R': -1, 'L': -1, 'W_D':-1, 'U': -1 , 'T_R':-1 },\n",
    "    (3,5): {'R': -1, 'W_L': -1, 'W_D':-1, 'U': -1 , 'T_L':-1 },\n",
    "    (3,6): {'R': -1, 'L': -1, 'W_D':-1, 'U': -1 },\n",
    "    (3,7): {'R': -1, 'L': -1, 'W_D':-1, 'W_U': -1 },\n",
    "    (3,8): {'W_R': -1, 'L': -1, 'W_D':-1, 'U': -1 },\n",
    "    #(4,0): {'W_R': 0, 'W_L':0, 'W_D':0, 'W_U':0}, # SOL\n",
    "    (4,1): {'R': -1, 'L':0, 'D':-1, 'W_U':-1},\n",
    "    (4,2): {'R': -1, 'L': -1, 'D': -1, 'W_U':-1 },\n",
    "    (4,3): {'W_R': -1, 'L': -1, 'D': -1, 'W_U':-1 },\n",
    "    (4,5): {'R': -1, 'W_L': -1, 'D': -1, 'W_U':-1 },\n",
    "    (4,6): {'R': -1, 'L': -1, 'D': -1, 'W_U':-1 },\n",
    "    (4,7): {'R': -1, 'L':-1, 'W_D':-1, 'W_U':-1},\n",
    "    (4,8): {'W_R': -1, 'L': -1, 'W_D': -1, 'W_U':-1 },\n",
    "\n",
    "    (5,0): {'W_R': -1, 'W_L':-1, 'D': -1, 'W_U':-1},\n",
    "    (5,1): {'R': -1, 'W_L':-1, 'W_D': -1, 'U': -1},\n",
    "    (5,2): {'R': -1, 'L': -1, 'W_D': -1, 'U': -1 },\n",
    "    (5,3): {'W_R': -1, 'L': -1, 'D': -1, 'U': -1 },\n",
    "    (5,5): {'R': -1, 'W_L': -1, 'D': -1, 'U': -1 },\n",
    "    (5,6): {'W_R': -1, 'L': -1, 'D': -1, 'U': -1 },\n",
    "    (5,7): {'R': -1, 'W_L': -1, 'D': -1, 'W_U': -1 },\n",
    "    (5,8): {'W_R': -1, 'L': -1, 'D': -1, 'W_U': -1 },\n",
    "\n",
    "    (6,0): {'R': -1, 'W_L':-1, 'W_D': -1, 'U': -1},\n",
    "    (6,1): {'R': -1, 'L': -1, 'W_D': -1, 'W_U':-1 },\n",
    "    (6,2): {'R': -1, 'L': -1, 'D': -1, 'W_U': -1 },\n",
    "    (6,3): {'W_R': -1, 'L': -1, 'D': -1, 'U': -1 },\n",
    "    (6,5): {'R': -1, 'W_L': -1, 'D': -1, 'U':-1 },\n",
    "    (6,6): {'W_R': -1, 'L': -1, 'D': -1, 'U': -1 },\n",
    "    (6,7): {'R': -1, 'W_L': -1, 'W_D': -1, 'U': -1 },\n",
    "    (6,8): {'W_R': -1, 'L': -1, 'D': -1, 'U': -1 },\n",
    "\n",
    "    (7,0): {'R': -1, 'W_L':-1, 'W_D':-1, 'W_U':-1 },\n",
    "    (7,1): {'R': -1, 'L': -1, 'W_D':-1, 'W_U':-1 },\n",
    "    (7,2): {'R': -1, 'L': -1, 'W_D': -1, 'U': -1 },\n",
    "    (7,3): {'W_R': -1, 'L': -1, 'W_D':-1, 'U': -1, 'T_R': -1 },\n",
    "    (7,5): {'R': -1, 'W_L':-1, 'W_D':-1, 'U':-1, 'T_L': -1 },\n",
    "    (7,6): {'R': -1, 'L': -1, 'W_D':-1, 'U':-1 },\n",
    "    (7,7): {'R': -1, 'L': -1, 'W_D': -1, 'W_U': -1 },\n",
    "    (7,8): {'W_R': -1, 'L': -1, 'W_D':-1, 'U': -1},\n",
    "}\n",
    "\n",
    "numIterations = 1000"
   ]
  },
  {
   "cell_type": "code",
   "execution_count": 13,
   "metadata": {
    "pycharm": {
     "name": "#%%\n"
    }
   },
   "outputs": [],
   "source": [
    "# initialization\n",
    "V = np.zeros(gridsize)\n",
    "returns = {(i, j):list() for i in range(gridsize[0]) for j in range(gridsize[1])}\n",
    "deltas = {(i, j):list() for i in range(gridsize[0]) for j in range(gridsize[1])}"
   ]
  },
  {
   "cell_type": "code",
   "execution_count": 14,
   "metadata": {
    "pycharm": {
     "name": "#%%\n"
    }
   },
   "outputs": [
    {
     "data": {
      "text/plain": [
       "{(0, 0): [],\n",
       " (0, 1): [],\n",
       " (0, 2): [],\n",
       " (0, 3): [],\n",
       " (0, 4): [],\n",
       " (0, 5): [],\n",
       " (0, 6): [],\n",
       " (0, 7): [],\n",
       " (0, 8): [],\n",
       " (1, 0): [],\n",
       " (1, 1): [],\n",
       " (1, 2): [],\n",
       " (1, 3): [],\n",
       " (1, 4): [],\n",
       " (1, 5): [],\n",
       " (1, 6): [],\n",
       " (1, 7): [],\n",
       " (1, 8): [],\n",
       " (2, 0): [],\n",
       " (2, 1): [],\n",
       " (2, 2): [],\n",
       " (2, 3): [],\n",
       " (2, 4): [],\n",
       " (2, 5): [],\n",
       " (2, 6): [],\n",
       " (2, 7): [],\n",
       " (2, 8): [],\n",
       " (3, 0): [],\n",
       " (3, 1): [],\n",
       " (3, 2): [],\n",
       " (3, 3): [],\n",
       " (3, 4): [],\n",
       " (3, 5): [],\n",
       " (3, 6): [],\n",
       " (3, 7): [],\n",
       " (3, 8): [],\n",
       " (4, 0): [],\n",
       " (4, 1): [],\n",
       " (4, 2): [],\n",
       " (4, 3): [],\n",
       " (4, 4): [],\n",
       " (4, 5): [],\n",
       " (4, 6): [],\n",
       " (4, 7): [],\n",
       " (4, 8): [],\n",
       " (5, 0): [],\n",
       " (5, 1): [],\n",
       " (5, 2): [],\n",
       " (5, 3): [],\n",
       " (5, 4): [],\n",
       " (5, 5): [],\n",
       " (5, 6): [],\n",
       " (5, 7): [],\n",
       " (5, 8): [],\n",
       " (6, 0): [],\n",
       " (6, 1): [],\n",
       " (6, 2): [],\n",
       " (6, 3): [],\n",
       " (6, 4): [],\n",
       " (6, 5): [],\n",
       " (6, 6): [],\n",
       " (6, 7): [],\n",
       " (6, 8): [],\n",
       " (7, 0): [],\n",
       " (7, 1): [],\n",
       " (7, 2): [],\n",
       " (7, 3): [],\n",
       " (7, 4): [],\n",
       " (7, 5): [],\n",
       " (7, 6): [],\n",
       " (7, 7): [],\n",
       " (7, 8): [],\n",
       " (8, 0): [],\n",
       " (8, 1): [],\n",
       " (8, 2): [],\n",
       " (8, 3): [],\n",
       " (8, 4): [],\n",
       " (8, 5): [],\n",
       " (8, 6): [],\n",
       " (8, 7): [],\n",
       " (8, 8): [],\n",
       " (9, 0): [],\n",
       " (9, 1): [],\n",
       " (9, 2): [],\n",
       " (9, 3): [],\n",
       " (9, 4): [],\n",
       " (9, 5): [],\n",
       " (9, 6): [],\n",
       " (9, 7): [],\n",
       " (9, 8): [],\n",
       " (10, 0): [],\n",
       " (10, 1): [],\n",
       " (10, 2): [],\n",
       " (10, 3): [],\n",
       " (10, 4): [],\n",
       " (10, 5): [],\n",
       " (10, 6): [],\n",
       " (10, 7): [],\n",
       " (10, 8): [],\n",
       " (11, 0): [],\n",
       " (11, 1): [],\n",
       " (11, 2): [],\n",
       " (11, 3): [],\n",
       " (11, 4): [],\n",
       " (11, 5): [],\n",
       " (11, 6): [],\n",
       " (11, 7): [],\n",
       " (11, 8): [],\n",
       " (12, 0): [],\n",
       " (12, 1): [],\n",
       " (12, 2): [],\n",
       " (12, 3): [],\n",
       " (12, 4): [],\n",
       " (12, 5): [],\n",
       " (12, 6): [],\n",
       " (12, 7): [],\n",
       " (12, 8): [],\n",
       " (13, 0): [],\n",
       " (13, 1): [],\n",
       " (13, 2): [],\n",
       " (13, 3): [],\n",
       " (13, 4): [],\n",
       " (13, 5): [],\n",
       " (13, 6): [],\n",
       " (13, 7): [],\n",
       " (13, 8): [],\n",
       " (14, 0): [],\n",
       " (14, 1): [],\n",
       " (14, 2): [],\n",
       " (14, 3): [],\n",
       " (14, 4): [],\n",
       " (14, 5): [],\n",
       " (14, 6): [],\n",
       " (14, 7): [],\n",
       " (14, 8): [],\n",
       " (15, 0): [],\n",
       " (15, 1): [],\n",
       " (15, 2): [],\n",
       " (15, 3): [],\n",
       " (15, 4): [],\n",
       " (15, 5): [],\n",
       " (15, 6): [],\n",
       " (15, 7): [],\n",
       " (15, 8): []}"
      ]
     },
     "execution_count": 14,
     "metadata": {},
     "output_type": "execute_result"
    }
   ],
   "source": [
    "returns"
   ]
  },
  {
   "cell_type": "code",
   "execution_count": 15,
   "metadata": {
    "pycharm": {
     "name": "#%%\n"
    }
   },
   "outputs": [],
   "source": [
    "acts = list(actions_.keys())"
   ]
  },
  {
   "cell_type": "code",
   "execution_count": 16,
   "metadata": {
    "pycharm": {
     "name": "#%%\n"
    }
   },
   "outputs": [],
   "source": [
    "# utils\n",
    "def generateEpisode():\n",
    "\n",
    "    initState = random.choice(acts)\n",
    "\n",
    "    episode = []\n",
    "    while True:\n",
    "\n",
    "        if list(initState) in terminationStates:\n",
    "            return episode\n",
    "\n",
    "        #return random.choice(list(actions_[initState].keys()))\n",
    "        action = random.choice(list(actions_[initState].keys()))\n",
    "        finalState = np.array(initState)+np.array(actions_dictionary[action])\n",
    "\n",
    "        episode.append([list(initState), actions_dictionary[action], actions_[initState][action], list(finalState)])\n",
    "\n",
    "        initState = tuple(finalState)"
   ]
  },
  {
   "cell_type": "code",
   "execution_count": 17,
   "metadata": {
    "pycharm": {
     "name": "#%%\n"
    }
   },
   "outputs": [],
   "source": [
    "def monte_carlo_first_visit_algorithm(gamma):\n",
    "\n",
    "    V = np.zeros(gridsize)\n",
    "    returns = {(i, j):list() for i in range(gridsize[0]) for j in range(gridsize[1])}\n",
    "    deltas = {(i, j):list() for i in range(gridsize[0]) for j in range(gridsize[1])}\n",
    "\n",
    "    for it in tqdm(range(numIterations)):\n",
    "        episode = generateEpisode()\n",
    "       # print(episode)\n",
    "        G = 0\n",
    "        #print(episode)\n",
    "        for i, step in enumerate(episode[::-1]):\n",
    "            G = gamma*G + step[2]\n",
    "            if step[0] not in [x[0] for x in episode[::-1][len(episode)-i:]]:\n",
    "                idx = (step[0][0], step[0][1])\n",
    "                returns[idx].append(G)\n",
    "                newValue = np.average(returns[idx])\n",
    "                deltas[idx[0], idx[1]].append(np.abs(V[idx[0], idx[1]]-newValue))\n",
    "                V[idx[0], idx[1]] = newValue\n",
    "\n",
    "\n",
    "    return deltas, V"
   ]
  },
  {
   "cell_type": "markdown",
   "metadata": {
    "pycharm": {
     "name": "#%%\n"
    }
   },
   "source": [
    "### Value function for cooking chef with 10000 iterations, gamma= 0.8 and Monte carlo algorithm"
   ]
  },
  {
   "cell_type": "code",
   "execution_count": 19,
   "metadata": {
    "pycharm": {
     "name": "#%%\n"
    }
   },
   "outputs": [
    {
     "name": "stderr",
     "output_type": "stream",
     "text": [
      "100%|██████████████████████████████████████| 1000/1000 [00:08<00:00, 117.75it/s]\n"
     ]
    }
   ],
   "source": [
    "deltas, valueMap = monte_carlo_first_visit_algorithm(0.8)\n",
    "first_half = pd.DataFrame(valueMap[:4])\n",
    "second_half = pd.DataFrame(valueMap[4:8])\n",
    "second_half.index +=4"
   ]
  },
  {
   "cell_type": "code",
   "execution_count": 20,
   "metadata": {
    "pycharm": {
     "name": "#%%\n"
    }
   },
   "outputs": [
    {
     "name": "stdout",
     "output_type": "stream",
     "text": [
      "          0         1         2         3    4         5         6         7         8\n",
      "0 -5.000000 -5.000000 -4.999999 -4.999992  0.0 -4.999993 -4.999997 -4.999996 -4.999999\n",
      "1 -4.998899 -5.000000 -5.000000 -4.999970  0.0 -4.999994 -4.999995 -4.999469 -4.999677\n",
      "2 -4.999455 -4.999708 -4.999362 -4.999764  0.0 -4.999998 -4.999993 -4.999543 -4.999659\n",
      "3 -4.999916 -4.999855 -4.999589 -4.999535  0.0 -4.999990 -4.999984 -4.999954 -4.999847\n",
      "\n",
      "          0         1         2         3    4         5         6         7         8\n",
      "4  0.000000 -2.743009 -4.149528 -4.567749  0.0 -4.229287 -3.149804  0.000000 -1.000000\n",
      "5 -4.995495 -3.971469 -4.468087 -4.702107  0.0 -4.550496 -4.344068 -4.998011 -4.997753\n",
      "6 -4.992539 -4.981647 -4.960380 -4.895866  0.0 -4.779550 -4.730435 -4.997667 -4.993539\n",
      "7 -4.994986 -4.991080 -4.978986 -4.947183  0.0 -4.909540 -4.894127 -4.957658 -4.981430\n"
     ]
    }
   ],
   "source": [
    "print(first_half)\n",
    "print()\n",
    "print(second_half)"
   ]
  },
  {
   "cell_type": "markdown",
   "metadata": {
    "pycharm": {
     "name": "#%%\n"
    }
   },
   "source": [
    "### Value function for cooking chef with 10000 iterations, gamma= 0.9 and Monte carlo algorithm"
   ]
  },
  {
   "cell_type": "code",
   "execution_count": 22,
   "metadata": {},
   "outputs": [
    {
     "name": "stderr",
     "output_type": "stream",
     "text": [
      "100%|██████████████████████████████████████| 1000/1000 [00:09<00:00, 106.89it/s]\n"
     ]
    }
   ],
   "source": [
    "deltas, valueMap = monte_carlo_first_visit_algorithm(0.9)\n",
    "first_half = pd.DataFrame(valueMap[:4])\n",
    "second_half = pd.DataFrame(valueMap[4:8])\n",
    "second_half.index += 4"
   ]
  },
  {
   "cell_type": "code",
   "execution_count": 23,
   "metadata": {
    "pycharm": {
     "name": "#%%\n"
    }
   },
   "outputs": [
    {
     "name": "stdout",
     "output_type": "stream",
     "text": [
      "          0         1         2         3    4         5         6         7         8\n",
      "0 -9.999910 -9.999749 -9.999221 -9.999477  0.0 -9.999850 -9.999868 -9.999975 -9.999992\n",
      "1 -9.966693 -9.999550 -9.998592 -9.994750  0.0 -9.999765 -9.999916 -9.978059 -9.991256\n",
      "2 -9.975593 -9.984765 -9.987968 -9.987378  0.0 -9.999583 -9.999740 -9.990582 -9.990443\n",
      "3 -9.999556 -9.999096 -9.997138 -9.993686  0.0 -9.996363 -9.997433 -9.997156 -9.996417\n",
      "\n",
      "          0         1         2         3    4         5         6         7         8\n",
      "4  0.000000 -4.567307 -7.279727 -8.409243  0.0 -7.262483 -5.292164  0.000000 -1.000000\n",
      "5 -9.930941 -6.798296 -7.939670 -8.704064  0.0 -8.069324 -7.563649 -9.948296 -9.919345\n",
      "6 -9.902228 -9.788748 -9.657040 -9.361983  0.0 -8.776021 -8.709291 -9.947174 -9.902599\n",
      "7 -9.902419 -9.834092 -9.688173 -9.518185  0.0 -9.272147 -9.296197 -9.618801 -9.791249\n"
     ]
    }
   ],
   "source": [
    "print(first_half)\n",
    "print()\n",
    "print(second_half)"
   ]
  }
 ],
 "metadata": {
  "kernelspec": {
   "display_name": "Python 3 (ipykernel)",
   "language": "python",
   "name": "python3"
  },
  "language_info": {
   "codemirror_mode": {
    "name": "ipython",
    "version": 3
   },
   "file_extension": ".py",
   "mimetype": "text/x-python",
   "name": "python",
   "nbconvert_exporter": "python",
   "pygments_lexer": "ipython3",
   "version": "3.8.15"
  }
 },
 "nbformat": 4,
 "nbformat_minor": 1
}
