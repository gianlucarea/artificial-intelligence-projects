{
 "cells": [
  {
   "cell_type": "markdown",
   "metadata": {},
   "source": [
    "# Policy Evaluation\n",
    "## Rea Gianluca 278722"
   ]
  },
  {
   "cell_type": "markdown",
   "metadata": {},
   "source": [
    "### Imports"
   ]
  },
  {
   "cell_type": "code",
   "execution_count": 1,
   "metadata": {
    "pycharm": {
     "name": "#%%\n"
    }
   },
   "outputs": [],
   "source": [
    "import numpy as np\n",
    "import matplotlib.pyplot as plt\n",
    "import pandas as pd\n",
    "pd.set_option('display.expand_frame_repr', False)"
   ]
  },
  {
   "cell_type": "code",
   "execution_count": 11,
   "metadata": {},
   "outputs": [],
   "source": [
    "### Definitions gridsize, terminationStates, actions_dictionary, actions"
   ]
  },
  {
   "cell_type": "code",
   "execution_count": 2,
   "metadata": {
    "pycharm": {
     "name": "#%%\n"
    }
   },
   "outputs": [],
   "source": [
    "\n",
    "gridsize = [16, 9]\n",
    "\n",
    "terminationStates = [[4,0], [4,7], [12,0], [12,7]]\n",
    "\n",
    "actions_dictionary = {\n",
    "    \"U\":    [-1, 0],\n",
    "    \"D\":    [1, 0],\n",
    "    \"R\":    [0, 1],\n",
    "    \"L\":    [0, -1],\n",
    "    \"W_R\":  [0,0],\n",
    "    \"W_L\":  [0,0],\n",
    "    \"W_D\":  [0,0],\n",
    "    \"W_U\":  [0,0],\n",
    "    \"P\":    [4,0],\n",
    "    \"T_R\":  [0,2],\n",
    "    \"T_L\":  [0,-2]\n",
    "}\n",
    "#up, down, right, left, pick, travel (to right), travel (to left)\n",
    "\n",
    "actions_ = {\n",
    "    #(0,0):('D', 'R', 'L', 'U'),\n",
    "    ### For eggs in pan\n",
    "    (0,0): {'R': -1, 'W_L':-1, 'W_D':-1, 'W_U':-1},\n",
    "    (0,1): {'R': -1, 'L':-1, 'D':-1, 'W_U':-1},\n",
    "    (0,2): {'R': -1, 'L': -1, 'D': -1, 'W_U':-1 },\n",
    "    (0,3): {'W_R': -1, 'L': -1, 'D': -1, 'W_U':-1 },\n",
    "    (0,5): {'R': -1, 'W_L': -1, 'D': -1, 'W_U': -1},\n",
    "    (0,6): {'R': -1, 'L': -1, 'D': -1, 'W_U': -1},\n",
    "    (0,7): {'R': -1, 'L': -1, 'W_D': -1, 'W_U': -1},\n",
    "    (0,8): {'W_R': -1, 'L': -1, 'W_D': -1, 'W_U': -1},\n",
    "\n",
    "    (1,0): {'W_R': -1, 'W_L':-1, 'D': -1, 'W_U':-1, 'P':-1},\n",
    "    (1,1): {'R': -1, 'W_L':-1, 'W_D': -1, 'U': -1},\n",
    "    (1,2): {'R': -1, 'L': -1, 'W_D': -1, 'U': -1 },\n",
    "    (1,3): {'W_R': -1, 'L': -1, 'D': -1, 'U': -1 },\n",
    "    (1,5): {'R': -1, 'W_L': -1, 'D': -1, 'U': -1},\n",
    "    (1,6): {'W_R': -1, 'L': -1, 'D': -1, 'U': -1},\n",
    "    (1,7): {'R': -1, 'W_L': -1, 'D': -1, 'W_U': -1, 'P': -1},\n",
    "    (1,8): {'W_R': -1, 'L': -1, 'D': -1, 'W_U': -1},\n",
    "\n",
    "    (2,0): {'R': -1, 'W_L':-1, 'W_D': -1, 'U': -1},\n",
    "    (2,1): {'R': -1, 'L': -1, 'W_D': -1, 'W_U':-1 },\n",
    "    (2,2): {'R': -1, 'L':-1, 'D': -1, 'W_U': -1 },\n",
    "    (2,3): {'W_R': -1, 'L':-1, 'D': -1, 'U': -1 },\n",
    "    (2,5): {'R': -1, 'W_L': -1, 'D': -1, 'U': -1},\n",
    "    (2,6): {'W_R': -1, 'L': -1, 'D': -1, 'U': -1},\n",
    "    (2,7): {'R': -1, 'W_L': -1, 'W_D': -1, 'U': -1},\n",
    "    (2,8): {'W_R': -1, 'L': -1, 'D': -1, 'U': -1},\n",
    "\n",
    "    (3,0): {'R': -1, 'W_L':-1, 'W_D':-1, 'W_U':-1 },\n",
    "    (3,1): {'R': -1, 'L': -1, 'W_D':-1, 'W_U':-1 },\n",
    "    (3,2): {'R': -1, 'L': -1, 'W_D': -1, 'U': -1 },\n",
    "    (3,3): {'W_R': -1, 'L': -1, 'W_D':-1, 'U': -1 , 'T_R':-1 },\n",
    "    (3,5): {'R': -1, 'W_L': -1, 'W_D':-1, 'U': -1 , 'T_L':-1 },\n",
    "    (3,6): {'R': -1, 'L': -1, 'W_D':-1, 'U': -1 },\n",
    "    (3,7): {'R': -1, 'L': -1, 'W_D':-1, 'W_U': -1 },\n",
    "    (3,8): {'W_R': -1, 'L': -1, 'W_D':-1, 'U': -1 },\n",
    "    #(4,0): {'W_R': 0, 'W_L':0, 'W_D':0, 'W_U':0}, # SOL\n",
    "    (4,1): {'R': -1, 'L':0, 'D':-1, 'W_U':-1},\n",
    "    (4,2): {'R': -1, 'L': -1, 'D': -1, 'W_U':-1 },\n",
    "    (4,3): {'W_R': -1, 'L': -1, 'D': -1, 'W_U':-1 },\n",
    "    (4,5): {'R': -1, 'W_L': -1, 'D': -1, 'W_U':-1 },\n",
    "    (4,6): {'R': -1, 'L': -1, 'D': -1, 'W_U':-1 },\n",
    "    (4,7): {'R': -1, 'L':-1, 'W_D':-1, 'W_U':-1},\n",
    "    (4,8): {'W_R': -1, 'L': -1, 'W_D': -1, 'W_U':-1 },\n",
    "\n",
    "    (5,0): {'W_R': -1, 'W_L':-1, 'D': -1, 'W_U':-1},\n",
    "    (5,1): {'R': -1, 'W_L':-1, 'W_D': -1, 'U': -1},\n",
    "    (5,2): {'R': -1, 'L': -1, 'W_D': -1, 'U': -1 },\n",
    "    (5,3): {'W_R': -1, 'L': -1, 'D': -1, 'U': -1 },\n",
    "    (5,5): {'R': -1, 'W_L': -1, 'D': -1, 'U': -1 },\n",
    "    (5,6): {'W_R': -1, 'L': -1, 'D': -1, 'U': -1 },\n",
    "    (5,7): {'R': -1, 'W_L': -1, 'D': -1, 'W_U': -1 },\n",
    "    (5,8): {'W_R': -1, 'L': -1, 'D': -1, 'W_U': -1 },\n",
    "\n",
    "    (6,0): {'R': -1, 'W_L':-1, 'W_D': -1, 'U': -1},\n",
    "    (6,1): {'R': -1, 'L': -1, 'W_D': -1, 'W_U':-1 },\n",
    "    (6,2): {'R': -1, 'L': -1, 'D': -1, 'W_U': -1 },\n",
    "    (6,3): {'W_R': -1, 'L': -1, 'D': -1, 'U': -1 },\n",
    "    (6,5): {'R': -1, 'W_L': -1, 'D': -1, 'U':-1 },\n",
    "    (6,6): {'W_R': -1, 'L': -1, 'D': -1, 'U': -1 },\n",
    "    (6,7): {'R': -1, 'W_L': -1, 'W_D': -1, 'U': -1 },\n",
    "    (6,8): {'W_R': -1, 'L': -1, 'D': -1, 'U': -1 },\n",
    "\n",
    "\n",
    "    (7,0): {'R': -1, 'W_L':-1, 'W_D':-1, 'W_U':-1 },\n",
    "    (7,1): {'R': -1, 'L': -1, 'W_D':-1, 'W_U':-1 },\n",
    "    (7,2): {'R': -1, 'L': -1, 'W_D': -1, 'U': -1 },\n",
    "    (7,3): {'W_R': -1, 'L': -1, 'W_D':-1, 'U': -1, 'T_R': -1 },\n",
    "    (7,5): {'R': -1, 'W_L':-1, 'W_D':-1, 'U':-1, 'T_L': -1 },\n",
    "    (7,6): {'R': -1, 'L': -1, 'W_D':-1, 'U':-1 },\n",
    "    (7,7): {'R': -1, 'L': -1, 'W_D': -1, 'W_U': -1 },\n",
    "    (7,8): {'W_R': -1, 'L': -1, 'W_D':-1, 'U': -1},\n",
    "\n",
    "    (8,0): {'R': -1, 'W_L':-1, 'W_D':-1, 'W_U':-1},\n",
    "    (8,1): {'R': -1, 'L':-1, 'D':-1, 'W_U':-1},\n",
    "    (8,2): {'R': -1, 'L': -1, 'D': -1, 'W_U':-1 },\n",
    "    (8,3): {'W_R': -1, 'L': -1, 'D': -1, 'W_U':-1 },\n",
    "    (8,5): {'R': -1, 'W_L': -1, 'D': -1, 'W_U': -1},\n",
    "    (8,6): {'R': -1, 'L': -1, 'D': -1, 'W_U': -1},\n",
    "    (8,7): {'R': -1, 'L': -1, 'W_D': -1, 'W_U': -1},\n",
    "    (8,8): {'W_R': -1, 'L': -1, 'W_D': -1, 'W_U': -1},\n",
    "\n",
    "    (9,0): {'W_R': -1, 'W_L':-1, 'D': -1, 'W_U':-1, 'P':-1},\n",
    "    (9,1): {'R': -1, 'W_L':-1, 'W_D': -1, 'U': -1},\n",
    "    (9,2): {'R': -1, 'L': -1, 'W_D': -1, 'U': -1 },\n",
    "    (9,3): {'W_R': -1, 'L': -1, 'D': -1, 'U': -1 },\n",
    "    (9,5): {'R': -1, 'W_L': -1, 'D': -1, 'U': -1},\n",
    "    (9,6): {'W_R': -1, 'L': -1, 'D': -1, 'U': -1},\n",
    "    (9,7): {'R': -1, 'W_L': -1, 'D': -1, 'W_U': -1, 'P': -1},\n",
    "    (9,8): {'W_R': -1, 'L': -1, 'D': -1, 'W_U': -1},\n",
    "\n",
    "    (10,0): {'R': -1, 'W_L':-1, 'W_D': -1, 'U': -1},\n",
    "    (10,1): {'R': -1, 'L': -1, 'W_D': -1, 'W_U':-1 },\n",
    "    (10,2): {'R': -1, 'L':-1, 'D': -1, 'W_U': -1 },\n",
    "    (10,3): {'W_R': -1, 'L':-1, 'D': -1, 'U': -1 },\n",
    "    (10,5): {'R': -1, 'W_L': -1, 'D': -1, 'U': -1},\n",
    "    (10,6): {'W_R': -1, 'L': -1, 'D': -1, 'U': -1},\n",
    "    (10,7): {'R': -1, 'W_L': -1, 'W_D': -1, 'U': -1},\n",
    "    (10,8): {'W_R': -1, 'L': -1, 'D': -1, 'U': -1},\n",
    "\n",
    "    (11,0): {'R': -1, 'W_L':-1, 'W_D':-1, 'W_U':-1 },\n",
    "    (11,1): {'R': -1, 'L': -1, 'W_D':-1, 'W_U':-1 },\n",
    "    (11,2): {'R': -1, 'L': -1, 'W_D': -1, 'U': -1 },\n",
    "    (11,3): {'W_R': -1, 'L': -1, 'W_D':-1, 'U': -1 , 'T_R': -1},\n",
    "    (11,5): {'R': -1, 'W_L': -1, 'W_D':-1, 'U': -1 , 'T_L': -1},\n",
    "    (11,6): {'R': -1, 'L': -1, 'W_D':-1, 'U': -1 },\n",
    "    (11,7): {'R': -1, 'L': -1, 'W_D':-1, 'W_U': -1 },\n",
    "    (11,8): {'W_R': -1, 'L': -1, 'W_D':-1, 'U': -1 },\n",
    "\n",
    "    (12,0): {'R': -1, 'W_L':-1, 'W_D':-1, 'W_U':-1}, # SOL\n",
    "    (12,1): {'R': -1, 'L':-1, 'D':-1, 'W_U':-1},\n",
    "    (12,2): {'R': -1, 'L': -1, 'D': -1, 'W_U':-1 },\n",
    "    (12,3): {'W_R': -1, 'L': -1, 'D': -1, 'W_U':-1 },\n",
    "    (12,5): {'R': -1, 'W_L': -1, 'D': -1, 'W_U':-1 },\n",
    "    (12,6): {'R': 0, 'L': -1, 'D': -1, 'W_U':-1 },\n",
    "    (12,8): {'W_R': -1, 'L': 0, 'W_D': -1, 'W_U':-1 },\n",
    "\n",
    "    (13,0): {'W_R': -1, 'W_L':-1, 'D': -1, 'W_U':-1},\n",
    "    (13,1): {'R': -1, 'W_L':-1, 'W_D': -1, 'U': -1},\n",
    "    (13,2): {'R': -1, 'L': -1, 'W_D': -1, 'U': -1 },\n",
    "    (13,3): {'W_R': -1, 'L': -1, 'D': -1, 'U': -1 },\n",
    "    (13,5): {'R': -1, 'W_L': -1, 'D': -1, 'U': -1 },\n",
    "    (13,6): {'W_R': -1, 'L': -1, 'D': -1, 'U': -1 },\n",
    "    (13,7): {'R': -1, 'W_L': -1, 'D': -1, 'W_U': -1 },\n",
    "    (13,8): {'W_R': -1, 'L': -1, 'D': -1, 'W_U': -1 },\n",
    "\n",
    "    (14,0): {'R': -1, 'W_L':-1, 'W_D': -1, 'U': -1},\n",
    "    (14,1): {'R': -1, 'L': -1, 'W_D': -1, 'W_U':-1 },\n",
    "    (14,2): {'R': -1, 'L': -1, 'D': -1, 'W_U': -1 },\n",
    "    (14,3): {'W_R': -1, 'L': -1, 'D': -1, 'U': -1 },\n",
    "    (14,5): {'R': -1, 'W_L': -1, 'D': -1, 'U':-1 },\n",
    "    (14,6): {'W_R': -1, 'L': -1, 'D': -1, 'U': -1 },\n",
    "    (14,7): {'R': -1, 'W_L': -1, 'W_D': -1, 'U': -1 },\n",
    "    (14,8): {'W_R': -1, 'L': -1, 'D': -1, 'U': -1 },\n",
    "\n",
    "    (15,0): {'R': -1, 'W_L':-1, 'W_D':-1, 'W_U':-1 },\n",
    "    (15,1): {'R': -1, 'L': -1, 'W_D':-1, 'W_U':-1 },\n",
    "    (15,2): {'R': -1, 'L': -1, 'W_D': -1, 'U': -1 },\n",
    "    (15,3): {'W_R': -1, 'L': -1, 'W_D':-1, 'U': -1, 'T_R': -1 },\n",
    "    (15,5): {'R': -1, 'W_L':-1, 'W_D':-1, 'U':-1 , 'T_L': -1 },\n",
    "    (15,6): {'R': -1, 'L': -1, 'W_D':-1, 'U':-1 },\n",
    "    (15,7): {'R': -1, 'L': -1, 'W_D': -1, 'W_U': -1 },\n",
    "    (15,8): {'W_R': -1, 'L': -1, 'W_D':-1, 'U': -1},\n",
    "\n",
    "}\n",
    "\n",
    "numIterations = 1000"
   ]
  },
  {
   "cell_type": "markdown",
   "metadata": {},
   "source": [
    "### Utilities"
   ]
  },
  {
   "cell_type": "code",
   "execution_count": 3,
   "metadata": {
    "pycharm": {
     "name": "#%%\n"
    }
   },
   "outputs": [],
   "source": [
    "def actionRewardFunction(initialPosition, action):\n",
    "\n",
    "    finalPosition = (np.array(initialPosition) + np.array(actions_dictionary[action]))\n",
    "\n",
    "    reward = actions_[tuple(initialPosition)][action]\n",
    "\n",
    "    return finalPosition, reward"
   ]
  },
  {
   "cell_type": "markdown",
   "metadata": {},
   "source": [
    "### Initialization"
   ]
  },
  {
   "cell_type": "code",
   "execution_count": 4,
   "metadata": {
    "pycharm": {
     "name": "#%%\n"
    }
   },
   "outputs": [
    {
     "name": "stdout",
     "output_type": "stream",
     "text": [
      "[[0. 0. 0. 0. 0. 0. 0. 0. 0.]\n",
      " [0. 0. 0. 0. 0. 0. 0. 0. 0.]\n",
      " [0. 0. 0. 0. 0. 0. 0. 0. 0.]\n",
      " [0. 0. 0. 0. 0. 0. 0. 0. 0.]\n",
      " [0. 0. 0. 0. 0. 0. 0. 0. 0.]\n",
      " [0. 0. 0. 0. 0. 0. 0. 0. 0.]\n",
      " [0. 0. 0. 0. 0. 0. 0. 0. 0.]\n",
      " [0. 0. 0. 0. 0. 0. 0. 0. 0.]\n",
      " [0. 0. 0. 0. 0. 0. 0. 0. 0.]\n",
      " [0. 0. 0. 0. 0. 0. 0. 0. 0.]\n",
      " [0. 0. 0. 0. 0. 0. 0. 0. 0.]\n",
      " [0. 0. 0. 0. 0. 0. 0. 0. 0.]\n",
      " [0. 0. 0. 0. 0. 0. 0. 0. 0.]\n",
      " [0. 0. 0. 0. 0. 0. 0. 0. 0.]\n",
      " [0. 0. 0. 0. 0. 0. 0. 0. 0.]\n",
      " [0. 0. 0. 0. 0. 0. 0. 0. 0.]]\n"
     ]
    }
   ],
   "source": [
    "valueMap = np.zeros(gridsize)\n",
    "print(valueMap)"
   ]
  },
  {
   "cell_type": "markdown",
   "metadata": {},
   "source": [
    "### Policy evaluation"
   ]
  },
  {
   "cell_type": "code",
   "execution_count": 5,
   "metadata": {
    "pycharm": {
     "name": "#%%\n"
    }
   },
   "outputs": [],
   "source": [
    "def policy_evaluation_algorithm(gamma):\n",
    "\n",
    "    print('gamma:', gamma)\n",
    "    print()\n",
    "    valueMap = np.zeros(gridsize)\n",
    "    deltas = []\n",
    "    for it in range(1000):\n",
    "        copyValueMap = np.copy(valueMap)\n",
    "        deltaState = []\n",
    "        for state in actions_:\n",
    "            weightedRewards = 0\n",
    "            for action in actions_[state]:\n",
    "                finalPosition, reward = actionRewardFunction(state, action)\n",
    "\n",
    "                weightedRewards += (1/len(actions_[state]))*(reward+(gamma*valueMap[finalPosition[0], finalPosition[1]]))\n",
    "            deltaState.append(np.abs(copyValueMap[state[0], state[1]]-weightedRewards))\n",
    "            copyValueMap[state[0], state[1]] = weightedRewards\n",
    "        deltas.append(deltaState)\n",
    "        valueMap = copyValueMap\n",
    "\n",
    "\n",
    "    return deltas, valueMap"
   ]
  },
  {
   "cell_type": "code",
   "execution_count": 26,
   "metadata": {
    "pycharm": {
     "name": "#%%\n"
    }
   },
   "outputs": [
    {
     "name": "stdout",
     "output_type": "stream",
     "text": [
      "gamma: 0.9\n",
      "\n"
     ]
    }
   ],
   "source": [
    "deltas, valueMap = policy_evaluation_algorithm(0.9)\n",
    "first_half = pd.DataFrame(valueMap[:4])\n",
    "second_half = pd.DataFrame(valueMap[4:8])\n",
    "second_half.index +=4\n",
    "third_half = pd.DataFrame(valueMap[8:12],index =[8,9,10,11])\n",
    "fourth_half = pd.DataFrame(valueMap[12:],index =[12,13,14,15])\n"
   ]
  },
  {
   "cell_type": "markdown",
   "metadata": {
    "pycharm": {
     "name": "#%%\n"
    }
   },
   "source": [
    "### Value function"
   ]
  },
  {
   "cell_type": "code",
   "execution_count": 27,
   "metadata": {
    "pycharm": {
     "name": "#%%\n"
    }
   },
   "outputs": [
    {
     "name": "stdout",
     "output_type": "stream",
     "text": [
      "          0         1         2         3    4         5         6         7         8\n",
      "0 -9.999951 -9.999929 -9.999891 -9.999837  0.0 -9.999974 -9.999978 -9.999987 -9.999991\n",
      "1 -9.982850 -9.999913 -9.999859 -9.999710  0.0 -9.999958 -9.999963 -9.999374 -9.999642\n",
      "2 -9.991242 -9.995742 -9.998350 -9.999306  0.0 -9.999918 -9.999937 -9.999642 -9.999751\n",
      "3 -9.999711 -9.999583 -9.999269 -9.999549  0.0 -9.999822 -9.999902 -9.999902 -9.999858\n",
      "\n",
      "          0         1         2         3    4         5         6         7         8\n",
      "4  0.000000 -5.391603 -7.803449 -8.705827  0.0 -9.992029 -9.993433 -9.996252 -9.997405\n",
      "5 -9.964930 -7.434294 -8.336672 -9.033016  0.0 -9.987084 -9.989098 -9.998491 -9.998156\n",
      "6 -9.949344 -9.911243 -9.833695 -9.626780  0.0 -9.974382 -9.981933 -9.998156 -9.997001\n",
      "7 -9.956200 -9.936734 -9.889149 -9.847752  0.0 -9.942744 -9.974290 -9.986766 -9.993359\n"
     ]
    }
   ],
   "source": [
    "print(first_half)\n",
    "print()\n",
    "print(second_half)"
   ]
  },
  {
   "cell_type": "code",
   "execution_count": 28,
   "metadata": {
    "pycharm": {
     "name": "#%%\n"
    }
   },
   "outputs": [
    {
     "name": "stdout",
     "output_type": "stream",
     "text": [
      "           0         1         2         3    4         5         6         7         8\n",
      "8  -9.999984 -9.999976 -9.999964 -9.999946  0.0 -9.999939 -9.999943 -9.999967 -9.999977\n",
      "9  -9.994986 -9.999971 -9.999953 -9.999904  0.0 -9.999908 -9.999896 -9.988223 -9.993318\n",
      "10 -9.997436 -9.998746 -9.999498 -9.999769  0.0 -9.999847 -9.999793 -9.993318 -9.995444\n",
      "11 -9.999904 -9.999861 -9.999757 -9.999803  0.0 -9.999773 -9.999543 -9.998860 -9.997670\n",
      "\n",
      "           0         1         2         3    4         5         6         7         8\n",
      "12 -9.995115 -9.992944 -9.989190 -9.983810  0.0 -7.487634 -5.443194  0.000000 -2.307692\n",
      "13 -9.989751 -9.991391 -9.986011 -9.971235  0.0 -8.415467 -7.927812 -9.971490 -9.965155\n",
      "14 -9.985195 -9.974060 -9.951396 -9.931100  0.0 -9.126716 -9.003804 -9.965155 -9.943332\n",
      "15 -9.971324 -9.958580 -9.927426 -9.840047  0.0 -9.572751 -9.514131 -9.749895 -9.874502\n"
     ]
    }
   ],
   "source": [
    "print(third_half)\n",
    "print()\n",
    "print(fourth_half)"
   ]
  },
  {
   "cell_type": "code",
   "execution_count": 29,
   "metadata": {
    "pycharm": {
     "name": "#%%\n"
    }
   },
   "outputs": [
    {
     "data": {
      "image/png": "[encoded data removed]",
      "text/plain": [
       "<Figure size 2000x1000 with 1 Axes>"
      ]
     },
     "metadata": {},
     "output_type": "display_data"
    }
   ],
   "source": [
    "plt.figure(figsize=(20, 10))\n",
    "plt.plot(deltas)\n",
    "plt.show()"
   ]
  },
  {
   "cell_type": "code",
   "execution_count": null,
   "metadata": {
    "pycharm": {
     "name": "#%%\n"
    }
   },
   "outputs": [],
   "source": []
  }
 ],
 "metadata": {
  "kernelspec": {
   "display_name": "Python 3 (ipykernel)",
   "language": "python",
   "name": "python3"
  },
  "language_info": {
   "codemirror_mode": {
    "name": "ipython",
    "version": 3
   },
   "file_extension": ".py",
   "mimetype": "text/x-python",
   "name": "python",
   "nbconvert_exporter": "python",
   "pygments_lexer": "ipython3",
   "version": "3.8.15"
  }
 },
 "nbformat": 4,
 "nbformat_minor": 1
}
