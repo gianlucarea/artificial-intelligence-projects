{
 "cells": [
  {
   "cell_type": "markdown",
   "id": "9fea3594",
   "metadata": {},
   "source": [
    "### Homework 1 \n",
    "    8-puzzle & 15-puzzle  \n",
    "    Gianluca Rea"
   ]
  },
  {
   "cell_type": "markdown",
   "id": "ab006798",
   "metadata": {},
   "source": [
    "### Libraries and variables definition"
   ]
  },
  {
   "cell_type": "code",
   "execution_count": 1,
   "id": "de91255d",
   "metadata": {},
   "outputs": [],
   "source": [
    "### Libraries import\n",
    "import numpy as np\n",
    "import random\n",
    "import time\n",
    "from copy import deepcopy"
   ]
  },
  {
   "cell_type": "code",
   "execution_count": 2,
   "id": "a50dd1ee",
   "metadata": {},
   "outputs": [],
   "source": [
    "### On the board an empty cell is represented using the value 0\n",
    "step = [\"up\",\"down\",\"left\",\"right\"];"
   ]
  },
  {
   "cell_type": "markdown",
   "id": "bff023e8",
   "metadata": {},
   "source": [
    "### Functions and Heuristics"
   ]
  },
  {
   "cell_type": "code",
   "execution_count": 3,
   "id": "1f451761",
   "metadata": {},
   "outputs": [],
   "source": [
    "### The following two function are realized to prevent the creation of non solvible board \n",
    "def getInvCount(arr,n):\n",
    "    invCount = 0\n",
    "    emptyValue = 0\n",
    "    for i in range (0,n*n):\n",
    "        for j in range (i+1,n*n):\n",
    "            if arr[j] != emptyValue and arr[i] != emptyValue and arr[i] > arr[j]:\n",
    "                invCount += 1\n",
    "    return invCount\n",
    "\n",
    "def hasSolution(puzzle,n):\n",
    "    invCount = getInvCount([j for sub in puzzle for j in sub], n)\n",
    "    if(n%2==1): return (invCount % 2 == 0)    \n",
    "    blankPos = 4 - np.where(puzzle == 0)[0]\n",
    "    return (invCount % 2 != blankPos % 2)\n"
   ]
  },
  {
   "cell_type": "code",
   "execution_count": 4,
   "id": "65c970e8",
   "metadata": {},
   "outputs": [],
   "source": [
    "### createWorld(N) create a board of dimension n using the previous \n",
    "### function to create a solvible one.\n",
    "\n",
    "def createWorld(n):\n",
    "    board =[i for i in range(1,n*n)]\n",
    "    board.append(0)\n",
    "    board = np.array(board).reshape(n,n)\n",
    "    while(True):\n",
    "        Q = np.arange(n*n)\n",
    "        np.random.shuffle(Q)\n",
    "        Q = Q.reshape(n,n)\n",
    "        if(hasSolution(Q, n)): break\n",
    "    return Q, board\n",
    "\n",
    "Q, board = (createWorld(4))"
   ]
  },
  {
   "cell_type": "code",
   "execution_count": 5,
   "id": "4e264b61",
   "metadata": {},
   "outputs": [
    {
     "name": "stdout",
     "output_type": "stream",
     "text": [
      "up : 2 3\n",
      "down : None\n",
      "left : 3 2\n",
      "right : None\n"
     ]
    }
   ],
   "source": [
    "### The function neighbors(state,n) given the current state and dimension n of the building \n",
    "### array of the matrix n gives back the position of the empty cell and the all the possible \n",
    "### steps even the ones not feasible \n",
    "\n",
    "def neighbors(state, n):\n",
    "    i, j = np.where(state == 0)\n",
    "    i, j = i[0], j[0]\n",
    "    up =  (i-1,j) if (i-1>-1) else (None)\n",
    "    down =  (i+1,j) if (i+1<n) else (None)\n",
    "    right =  (i,j+1) if (j+1<n) else (None)\n",
    "    left =  (i,j-1) if (j-1>-1) else (None)\n",
    "    \n",
    "    return (i,j),[up, down, left, right]\n",
    "\n",
    "for indx, val in enumerate(neighbors(Q, 4)[1]):\n",
    "    \n",
    "    if val != None:\n",
    "        i, j = val\n",
    "        print(step[indx],\":\", i, j)\n",
    "    else :\n",
    "        print(step[indx],\":\", None)\n",
    " "
   ]
  },
  {
   "cell_type": "code",
   "execution_count": 6,
   "id": "5f73a781",
   "metadata": {},
   "outputs": [],
   "source": [
    "### Manahattan distance heuristic\n",
    "\n",
    "def manahattanDistance(state, n):\n",
    "    mDistances = 0\n",
    "    for index in range(1,n*n):\n",
    "        iGoal, jGoal = np.where(board == index)\n",
    "        iValue, jValue = np.where(state == index)\n",
    "        manahattanDistanceVar = abs(iValue - iGoal) + abs(jValue - jGoal)\n",
    "        mDistances +=  manahattanDistanceVar \n",
    "    return mDistances[0]\n"
   ]
  },
  {
   "cell_type": "code",
   "execution_count": 7,
   "id": "b56b04a6",
   "metadata": {},
   "outputs": [],
   "source": [
    "### Misplaced tiles heuristic\n",
    "### We use this heuristics to count how many pieces are misplaced \n",
    "\n",
    "def misplacedTiles(state, n):\n",
    "    misplacedTilesVar = 0\n",
    "    for indx, val in enumerate(state.reshape(n*n)):\n",
    "        if indx +1 != val and val != 0 :\n",
    "            misplacedTilesVar = misplacedTilesVar +1\n",
    "    \n",
    "    return misplacedTilesVar"
   ]
  },
  {
   "cell_type": "code",
   "execution_count": 8,
   "id": "d904076c",
   "metadata": {},
   "outputs": [],
   "source": [
    "### The function makeMoves takes as input the state, the position of the empy cell and all the feasible moves\n",
    "### and as output a list with all the new states\n",
    "\n",
    "def makeMoves(boardState, positionZero , feasibleMoves ):\n",
    "    newStatesList = []\n",
    "    iZero, jZero = positionZero\n",
    "    for move in feasibleMoves:\n",
    "        if move != None:\n",
    "            i, j = move\n",
    "            newState = np.copy(boardState)\n",
    "            newState[iZero,jZero], newState[i,j] = newState[i,j], newState[iZero,jZero]\n",
    "            newStatesList.append(newState)\n",
    "            \n",
    "    return newStatesList"
   ]
  },
  {
   "cell_type": "markdown",
   "id": "e0d33ff9",
   "metadata": {},
   "source": [
    "### Agents"
   ]
  },
  {
   "cell_type": "code",
   "execution_count": 9,
   "id": "1f4bd9b6",
   "metadata": {},
   "outputs": [],
   "source": [
    "### All the agents are optimised , for each new state created from the previous one\n",
    "### we check if the new state are equal to the current one. This way we don't explore every tree \n",
    "### saving memory and execution time\n",
    "\n",
    "### Agent 1 implements the Manahattan Distance heuristic\n",
    "### Agent 2 implements the Misplaced Tiles heuristic"
   ]
  },
  {
   "cell_type": "code",
   "execution_count": 10,
   "id": "09e4bc0f",
   "metadata": {},
   "outputs": [],
   "source": [
    "def agent1(Q, n, board):\n",
    "    startTime = time.time()\n",
    "\n",
    "    currentState = Q\n",
    "    previousState = Q\n",
    "    i = 0\n",
    "    while (not np.allclose(board, currentState)):\n",
    "        i+=1   \n",
    "        positionZero, feasibleMoves = (neighbors(currentState, n ))                             \n",
    "        newStateBoards = makeMoves(currentState, positionZero , feasibleMoves)    \n",
    "        heuristicValues = []\n",
    "        boardStates = []\n",
    "        for newStateBoard in newStateBoards:\n",
    "            if not np.allclose(newStateBoard, previousState):\n",
    "                boardStates.append(newStateBoard)\n",
    "                heuristicValues.append(manahattanDistance(newStateBoard, n))\n",
    "        indexMin = random.choice([i for i, x in enumerate(heuristicValues) if x == min(heuristicValues)])\n",
    "        previousState = currentState\n",
    "        currentState = boardStates[indexMin]\n",
    "    print(\"--- %s seconds ---\" % (time.time() - startTime))\n",
    "\n",
    "    return(currentState,i)"
   ]
  },
  {
   "cell_type": "code",
   "execution_count": 11,
   "id": "2262a653",
   "metadata": {},
   "outputs": [],
   "source": [
    "def agent2(Q, n, board):\n",
    "    startTime = time.time()\n",
    "\n",
    "    currentState = Q\n",
    "    previousState = Q\n",
    "    i = 0\n",
    "    while (not np.allclose(board, currentState)):\n",
    "        i+=1   \n",
    "        positionZero, feasibleMoves = (neighbors(currentState, n ))                            \n",
    "        newStateBoards = makeMoves(currentState, positionZero, feasibleMoves)    \n",
    "        heuristicValues = []\n",
    "        boardStates = []\n",
    "        for newStateBoard in newStateBoards:\n",
    "            if not np.allclose(newStateBoard, previousState):\n",
    "                boardStates.append(newStateBoard)\n",
    "                heuristicValues.append(misplacedTiles(newStateBoard, n))\n",
    "        indexMin = random.choice([i for i, x in enumerate(heuristicValues) if x == min(heuristicValues)])\n",
    "        previousState = currentState\n",
    "        currentState = boardStates[indexMin]\n",
    "    print(\"--- %s seconds ---\" % (time.time() - startTime))\n",
    "\n",
    "   \n",
    "    return(currentState,i)"
   ]
  },
  {
   "cell_type": "markdown",
   "id": "b70b6071",
   "metadata": {},
   "source": [
    "### Bredth First Search and Depth First Search Implementation"
   ]
  },
  {
   "cell_type": "code",
   "execution_count": 12,
   "id": "5196675a",
   "metadata": {},
   "outputs": [],
   "source": [
    "### The class node is needed for modeling the tree,\n",
    "### in this way we can easily implement a DFS and BFS\n",
    "\n",
    "class Node(object):\n",
    "    def __init__(self, name: int, data: np.array, parent, notVisited = None):\n",
    "        self.name = name\n",
    "        self.data = data\n",
    "        self.parent = parent\n",
    "        self.notVisited = notVisited\n",
    "\n",
    "    def getParent(self) :\n",
    "        return self.parent"
   ]
  },
  {
   "cell_type": "code",
   "execution_count": 13,
   "id": "c4802a77",
   "metadata": {},
   "outputs": [],
   "source": [
    "### BFS\n",
    "def bredthFirstSearch(puzzle: np.array, n, board) : \n",
    "    startTime = time.time()\n",
    "\n",
    "    sol = False\n",
    "    firstNode = Node(1,puzzle, board)\n",
    "    explorationNodes = [firstNode]\n",
    "    j = 0\n",
    "    i = 1\n",
    "    while(not sol):\n",
    "        j = j+1\n",
    "        listX = []\n",
    "        print(j, len(explorationNodes))\n",
    "        for node in explorationNodes:\n",
    "            if(np.allclose(node.data, board)):\n",
    "                sol = True\n",
    "                print(\"--- %s seconds ---\" % (time.time() - startTime))\n",
    "                return node.data\n",
    "               \n",
    "            else:\n",
    "               \n",
    "                index, feasibleMoves = neighbors(node.data, n)\n",
    "                toExplore =  makeMoves(node.data, index, feasibleMoves)\n",
    "               \n",
    "                for nodeX in toExplore:\n",
    "                    i = i+1\n",
    "                    if (not np.allclose(nodeX, node.getParent().data )):\n",
    "                        child = Node(i+1, nodeX, node)\n",
    "                        listX.append(child)\n",
    "               \n",
    "            explorationNodes = listX"
   ]
  },
  {
   "cell_type": "code",
   "execution_count": 14,
   "id": "2839fe06",
   "metadata": {},
   "outputs": [],
   "source": [
    "def depthFirstSearch(puzzle: np.array, n, board) : \n",
    "    startTime = time.time()\n",
    "    stack = [] \n",
    "    visited = set()\n",
    "    gol = Node(-1, board,None, [])\n",
    "    firstNode = Node(0, puzzle,gol, [])\n",
    "    stack.append(deepcopy(firstNode)) \n",
    "    while (len(stack) !=0): \n",
    "        newNode = stack.pop() \n",
    "        if newNode not in visited:\n",
    "            if (np.allclose(newNode.data, board)):\n",
    "                print(\"--- %s seconds ---\" % (time.time() - startTime))\n",
    "                return (newNode.name, newNode.data)\n",
    "            visited.add(newNode) \n",
    "        else:\n",
    "            index, feasibleMoves = neighbors(newNode.data, n)\n",
    "            newNode.not_visited =  makeMoves(newNode.data, index, feasibleMoves)\n",
    "            newNode.not_visited.reverse()\n",
    "            for neighbor in newNode.not_visited:\n",
    "                if not np.allclose(neighbor, newNode.parent.data):\n",
    "                    neighborNode = Node(i, neighbor, newNode, [])\n",
    "                    if neighborNode not in visited: \n",
    "                        stack.append(neighborNode) \n"
   ]
  },
  {
   "cell_type": "markdown",
   "id": "956038cb",
   "metadata": {},
   "source": [
    "# Tests"
   ]
  },
  {
   "cell_type": "code",
   "execution_count": 15,
   "id": "3b2bfd69",
   "metadata": {},
   "outputs": [
    {
     "name": "stdout",
     "output_type": "stream",
     "text": [
      "\n",
      "--- 0.03123307228088379 seconds ---\n",
      "(array([[1, 2, 3],\n",
      "       [4, 5, 6],\n",
      "       [7, 8, 0]]), 147)\n",
      "\n",
      "--- 0.7174451351165771 seconds ---\n",
      "(array([[1, 2, 3],\n",
      "       [4, 5, 6],\n",
      "       [7, 8, 0]]), 6875)\n"
     ]
    }
   ],
   "source": [
    "#Easy example\n",
    "n = 3\n",
    "Q, board = (createWorld(n))\n",
    "print()\n",
    "print(agent1(Q, n, board))\n",
    "print()\n",
    "print(agent2(Q, n, board))"
   ]
  },
  {
   "cell_type": "code",
   "execution_count": 16,
   "id": "5c41f311",
   "metadata": {},
   "outputs": [
    {
     "name": "stdout",
     "output_type": "stream",
     "text": [
      "1 1\n",
      "2 3\n",
      "3 5\n",
      "4 10\n",
      "5 14\n",
      "6 28\n",
      "7 44\n",
      "8 88\n",
      "9 128\n",
      "10 256\n",
      "11 392\n",
      "12 784\n",
      "13 1160\n",
      "14 2320\n",
      "15 3512\n",
      "16 7024\n",
      "17 10472\n",
      "18 20944\n",
      "19 31544\n",
      "20 63088\n",
      "21 94376\n",
      "22 188752\n",
      "23 283640\n",
      "24 567280\n",
      "--- 79.72678112983704 seconds ---\n",
      "[[1 2 3]\n",
      " [4 5 6]\n",
      " [7 8 0]]\n"
     ]
    }
   ],
   "source": [
    "### We show number of iteration, cardinality of explored nodes, execution time\n",
    "### and solution\n",
    "print(bredthFirstSearch(Q, n, board))"
   ]
  },
  {
   "cell_type": "code",
   "execution_count": 17,
   "id": "a0a788a5",
   "metadata": {},
   "outputs": [
    {
     "name": "stdout",
     "output_type": "stream",
     "text": [
      "None\n"
     ]
    }
   ],
   "source": [
    "# Only in easy solvible board is possible to find a solution using DFS\n",
    "print(depthFirstSearch(Q, n, board))\n"
   ]
  },
  {
   "cell_type": "code",
   "execution_count": 18,
   "id": "c29208c8",
   "metadata": {},
   "outputs": [
    {
     "name": "stdout",
     "output_type": "stream",
     "text": [
      "\n",
      "--- 2.503391981124878 seconds ---\n",
      "(array([[ 1,  2,  3,  4],\n",
      "       [ 5,  6,  7,  8],\n",
      "       [ 9, 10, 11, 12],\n",
      "       [13, 14, 15,  0]]), 6797)\n",
      "\n"
     ]
    }
   ],
   "source": [
    "# This is an home made example to show \n",
    "board = np.array([[1,2,3,4], [5,6,7,8], [9,10,11,12], [13,14,15,0]])\n",
    "Q = np.array([[2,0,1,4], [3,8,5,7], [9,6,11,12],[10,13,14,15]])\n",
    "n = 4\n",
    "\n",
    "print()\n",
    "print(agent1(Q, n, board))\n",
    "print()\n",
    "#print(agent2(Q, n, board))"
   ]
  },
  {
   "cell_type": "code",
   "execution_count": null,
   "id": "0752dfb5",
   "metadata": {},
   "outputs": [
    {
     "name": "stdout",
     "output_type": "stream",
     "text": [
      "1 1\n",
      "2 3\n",
      "3 6\n",
      "4 14\n",
      "5 32\n",
      "6 66\n",
      "7 136\n",
      "8 290\n",
      "9 624\n",
      "10 1338\n",
      "11 2848\n",
      "12 6042\n",
      "13 12856\n",
      "14 27426\n",
      "15 58488\n",
      "16 124594\n",
      "17 265312\n",
      "18 565098\n",
      "19 1204016\n",
      "20 2565418\n",
      "21 5465448\n",
      "22 11642898\n",
      "23 24803144\n"
     ]
    }
   ],
   "source": [
    "print(bredthFirstSearch(Q, n, board))\n",
    "print()\n",
    "## print(depthFirstSearch(Q,n,board))"
   ]
  },
  {
   "cell_type": "code",
   "execution_count": null,
   "id": "cec39d57",
   "metadata": {},
   "outputs": [],
   "source": []
  }
 ],
 "metadata": {
  "kernelspec": {
   "display_name": "Python 3 (ipykernel)",
   "language": "python",
   "name": "python3"
  },
  "language_info": {
   "codemirror_mode": {
    "name": "ipython",
    "version": 3
   },
   "file_extension": ".py",
   "mimetype": "text/x-python",
   "name": "python",
   "nbconvert_exporter": "python",
   "pygments_lexer": "ipython3",
   "version": "3.9.7"
  }
 },
 "nbformat": 4,
 "nbformat_minor": 5
}
