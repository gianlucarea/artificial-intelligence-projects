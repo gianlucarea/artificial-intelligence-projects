{
 "cells": [
  {
   "cell_type": "markdown",
   "id": "e7122fe5",
   "metadata": {},
   "source": [
    "### Homework 1 \n",
    "    8-puzzle & 15-puzzle  \n",
    "    Gianluca Rea"
   ]
  },
  {
   "cell_type": "markdown",
   "id": "efd3c1e3",
   "metadata": {},
   "source": [
    "### Libraries and variables definition"
   ]
  },
  {
   "cell_type": "code",
   "execution_count": 1,
   "id": "3862e1e2",
   "metadata": {},
   "outputs": [],
   "source": [
    "### Libraries import\n",
    "import numpy as np\n",
    "import random\n",
    "import time\n",
    "from copy import deepcopy"
   ]
  },
  {
   "cell_type": "code",
   "execution_count": 2,
   "id": "47212de9",
   "metadata": {},
   "outputs": [],
   "source": [
    "### On the board an empty cell is represented using the value 0\n",
    "step = [\"up\",\"down\",\"left\",\"right\"];\n",
    "ndim = 4"
   ]
  },
  {
   "cell_type": "markdown",
   "id": "fced86f1",
   "metadata": {},
   "source": [
    "### Functions and Heuristics"
   ]
  },
  {
   "cell_type": "code",
   "execution_count": 3,
   "id": "5dcab71a",
   "metadata": {},
   "outputs": [],
   "source": [
    "### The following two function are realized to prevent the creation of non solvible board \n",
    "def getInvCount(arr,n):\n",
    "    invCount = 0\n",
    "    emptyValue = 0\n",
    "    for i in range (0,n*n):\n",
    "        for j in range (i+1,n*n):\n",
    "            if arr[j] != emptyValue and arr[i] != emptyValue and arr[i] > arr[j]:\n",
    "                invCount += 1\n",
    "    return invCount\n",
    "\n",
    "def hasSolution(puzzle,n):\n",
    "    invCount = getInvCount([j for sub in puzzle for j in sub], n)\n",
    "    if(n%2==1): return (invCount % 2 == 0)    \n",
    "    blankPos = 4 - np.where(puzzle == 0)[0]\n",
    "    return (invCount % 2 != blankPos % 2)\n"
   ]
  },
  {
   "cell_type": "code",
   "execution_count": 4,
   "id": "f707c502",
   "metadata": {},
   "outputs": [],
   "source": [
    "### createWorld(N) create a board of dimension n using the previous \n",
    "### function to create a solvible one.\n",
    "\n",
    "def createWorld(n):\n",
    "    board =[i for i in range(1,n*n)]\n",
    "    board.append(0)\n",
    "    board = np.array(board).reshape(n,n)\n",
    "    while(True):\n",
    "        s0 = np.arange(n*n)\n",
    "        np.random.shuffle(s0)\n",
    "        s0 = s0.reshape(n,n)\n",
    "        if(hasSolution(s0, n)): break\n",
    "    return s0, board\n",
    "\n",
    "s0, board = (createWorld(ndim))"
   ]
  },
  {
   "cell_type": "code",
   "execution_count": 5,
   "id": "e39e4e3f",
   "metadata": {},
   "outputs": [
    {
     "name": "stdout",
     "output_type": "stream",
     "text": [
      "up : 1 3\n",
      "down : 3 3\n",
      "left : 2 2\n",
      "right : None\n"
     ]
    }
   ],
   "source": [
    "### The function neighbors(state,n) given the current state and dimension n of the building \n",
    "### array of the matrix n gives back the position of the empty cell and the all the possible \n",
    "### steps even the ones not feasible \n",
    "\n",
    "def neighbors(state, n):\n",
    "    i, j = np.where(state == 0)\n",
    "    i, j = i[0], j[0]\n",
    "    up =  (i-1,j) if (i-1>-1) else (None)\n",
    "    down =  (i+1,j) if (i+1<n) else (None)\n",
    "    right =  (i,j+1) if (j+1<n) else (None)\n",
    "    left =  (i,j-1) if (j-1>-1) else (None)\n",
    "    \n",
    "    return (i,j),[up, down, left, right]\n",
    "\n",
    "for indx, val in enumerate(neighbors(s0, ndim)[1]):\n",
    "    \n",
    "    if val != None:\n",
    "        i, j = val\n",
    "        print(step[indx],\":\", i, j)\n",
    "    else :\n",
    "        print(step[indx],\":\", None)\n",
    " "
   ]
  },
  {
   "cell_type": "code",
   "execution_count": 6,
   "id": "5cb7b8f7",
   "metadata": {},
   "outputs": [],
   "source": [
    "### Manahattan distance heuristic\n",
    "\n",
    "def manahattanDistance(state, n):\n",
    "    mDistances = 0\n",
    "    for index in range(1,n*n):\n",
    "        iGoal, jGoal = np.where(board == index)\n",
    "        iValue, jValue = np.where(state == index)\n",
    "        manahattanDistanceVar = abs(iValue - iGoal) + abs(jValue - jGoal)\n",
    "        mDistances +=  manahattanDistanceVar \n",
    "    return mDistances[0]\n"
   ]
  },
  {
   "cell_type": "code",
   "execution_count": 7,
   "id": "0193d298",
   "metadata": {},
   "outputs": [],
   "source": [
    "### Misplaced tiles heuristic\n",
    "### We use this heuristics to count how many pieces are misplaced \n",
    "\n",
    "def misplacedTiles(state, n):\n",
    "    misplacedTilesVar = 0\n",
    "    for indx, val in enumerate(state.reshape(n*n)):\n",
    "        if indx +1 != val and val != 0 :\n",
    "            misplacedTilesVar = misplacedTilesVar +1\n",
    "    \n",
    "    return misplacedTilesVar"
   ]
  },
  {
   "cell_type": "code",
   "execution_count": 8,
   "id": "48d5331c",
   "metadata": {},
   "outputs": [],
   "source": [
    "### The function makeMoves takes as input the state, the position of the empy cell and all the feasible moves\n",
    "### and as output a list with all the new states\n",
    "\n",
    "def makeMoves(boardState, positionZero , feasibleMoves ):\n",
    "    newStatesList = []\n",
    "    iZero, jZero = positionZero\n",
    "    for move in feasibleMoves:\n",
    "        if move != None:\n",
    "            i, j = move\n",
    "            newState = np.copy(boardState)\n",
    "            newState[iZero,jZero], newState[i,j] = newState[i,j], newState[iZero,jZero]\n",
    "            newStatesList.append(newState)\n",
    "            \n",
    "    return newStatesList"
   ]
  },
  {
   "cell_type": "markdown",
   "id": "aebf8d7d",
   "metadata": {},
   "source": [
    "### Agents"
   ]
  },
  {
   "cell_type": "code",
   "execution_count": 9,
   "id": "a0676073",
   "metadata": {},
   "outputs": [],
   "source": [
    "### All the agents are optimised , for each new state created from the previous one\n",
    "### we check if the new state are equal to the current one. This way we don't explore every tree \n",
    "### saving memory and execution time\n",
    "\n",
    "### Agent 1 implements the Manahattan Distance heuristic\n",
    "### Agent 2 implements the Misplaced Tiles heuristic"
   ]
  },
  {
   "cell_type": "code",
   "execution_count": 10,
   "id": "fe413ff8",
   "metadata": {},
   "outputs": [],
   "source": [
    "def agent1(s0, n, board):\n",
    "    startTime = time.time()\n",
    "\n",
    "    currentState = s0\n",
    "    previousState = s0\n",
    "    i = 0\n",
    "    while (not np.allclose(board, currentState)):\n",
    "        i+=1   \n",
    "        positionZero, feasibleMoves = (neighbors(currentState, n ))                             \n",
    "        newStateBoards = makeMoves(currentState, positionZero , feasibleMoves)    \n",
    "        heuristicValues = []\n",
    "        boardStates = []\n",
    "        for newStateBoard in newStateBoards:\n",
    "            if not np.allclose(newStateBoard, previousState):\n",
    "                boardStates.append(newStateBoard)\n",
    "                heuristicValues.append(manahattanDistance(newStateBoard, n))\n",
    "        indexMin = random.choice([i for i, x in enumerate(heuristicValues) if x == min(heuristicValues)])\n",
    "        previousState = currentState\n",
    "        currentState = boardStates[indexMin]\n",
    "    print(\"--- %s seconds ---\" % (time.time() - startTime))\n",
    "\n",
    "    return(currentState,i)"
   ]
  },
  {
   "cell_type": "code",
   "execution_count": 11,
   "id": "018f5725",
   "metadata": {},
   "outputs": [],
   "source": [
    "def agent2(s0, n, board):\n",
    "    startTime = time.time()\n",
    "\n",
    "    currentState = s0\n",
    "    previousState = s0\n",
    "    i = 0\n",
    "    while (not np.allclose(board, currentState)):\n",
    "        i+=1   \n",
    "        positionZero, feasibleMoves = (neighbors(currentState, n ))                            \n",
    "        newStateBoards = makeMoves(currentState, positionZero, feasibleMoves)    \n",
    "        heuristicValues = []\n",
    "        boardStates = []\n",
    "        for newStateBoard in newStateBoards:\n",
    "            if not np.allclose(newStateBoard, previousState):\n",
    "                boardStates.append(newStateBoard)\n",
    "                heuristicValues.append(misplacedTiles(newStateBoard, n))\n",
    "        indexMin = random.choice([i for i, x in enumerate(heuristicValues) if x == min(heuristicValues)])\n",
    "        previousState = currentState\n",
    "        currentState = boardStates[indexMin]\n",
    "    print(\"--- %s seconds ---\" % (time.time() - startTime))\n",
    "\n",
    "   \n",
    "    return(currentState,i)"
   ]
  },
  {
   "cell_type": "markdown",
   "id": "ff3a6363",
   "metadata": {},
   "source": [
    "### Bredth First Search and Depth First Search Implementation"
   ]
  },
  {
   "cell_type": "code",
   "execution_count": 12,
   "id": "b41a9128",
   "metadata": {},
   "outputs": [],
   "source": [
    "### The class node is needed for modeling the tree,\n",
    "### in this way we can easily implement a DFS and BFS\n",
    "\n",
    "class Node(object):\n",
    "    def __init__(self, name: int, data: np.array, parent, notVisited = None):\n",
    "        self.name = name\n",
    "        self.data = data\n",
    "        self.parent = parent\n",
    "        self.notVisited = notVisited\n",
    "\n",
    "    def getParent(self) :\n",
    "        return self.parent"
   ]
  },
  {
   "cell_type": "code",
   "execution_count": 14,
   "id": "828485a5",
   "metadata": {},
   "outputs": [
    {
     "name": "stdout",
     "output_type": "stream",
     "text": [
      "1 1\n",
      "2 3\n",
      "3 6\n",
      "4 14\n",
      "5 32\n",
      "6 66\n",
      "7 136\n",
      "8 290\n",
      "9 624\n",
      "10 1338\n",
      "11 2848\n",
      "12 6042\n",
      "13 12856\n",
      "14 27426\n",
      "15 58488\n",
      "16 124594\n",
      "17 265312\n",
      "18 565098\n"
     ]
    },
    {
     "ename": "KeyboardInterrupt",
     "evalue": "",
     "output_type": "error",
     "traceback": [
      "\u001b[0;31m---------------------------------------------------------------------------\u001b[0m",
      "\u001b[0;31mKeyboardInterrupt\u001b[0m                         Traceback (most recent call last)",
      "\u001b[0;32m/var/folders/zt/4qm_9p2d267_7b0p2r1hsg840000gn/T/ipykernel_56913/199188848.py\u001b[0m in \u001b[0;36m<module>\u001b[0;34m\u001b[0m\n\u001b[1;32m     31\u001b[0m             \u001b[0mexplorationNodes\u001b[0m \u001b[0;34m=\u001b[0m \u001b[0mlistX\u001b[0m\u001b[0;34m\u001b[0m\u001b[0;34m\u001b[0m\u001b[0m\n\u001b[1;32m     32\u001b[0m \u001b[0;34m\u001b[0m\u001b[0m\n\u001b[0;32m---> 33\u001b[0;31m \u001b[0mprint\u001b[0m\u001b[0;34m(\u001b[0m\u001b[0mbredthFirstSearch\u001b[0m\u001b[0;34m(\u001b[0m\u001b[0ms0\u001b[0m\u001b[0;34m,\u001b[0m \u001b[0mndim\u001b[0m\u001b[0;34m,\u001b[0m \u001b[0mboard\u001b[0m\u001b[0;34m)\u001b[0m\u001b[0;34m)\u001b[0m\u001b[0;34m\u001b[0m\u001b[0;34m\u001b[0m\u001b[0m\n\u001b[0m",
      "\u001b[0;32m/var/folders/zt/4qm_9p2d267_7b0p2r1hsg840000gn/T/ipykernel_56913/199188848.py\u001b[0m in \u001b[0;36mbredthFirstSearch\u001b[0;34m(puzzle, n, board)\u001b[0m\n\u001b[1;32m     13\u001b[0m         \u001b[0mprint\u001b[0m\u001b[0;34m(\u001b[0m\u001b[0mj\u001b[0m\u001b[0;34m,\u001b[0m \u001b[0mlen\u001b[0m\u001b[0;34m(\u001b[0m\u001b[0mexplorationNodes\u001b[0m\u001b[0;34m)\u001b[0m\u001b[0;34m)\u001b[0m\u001b[0;34m\u001b[0m\u001b[0;34m\u001b[0m\u001b[0m\n\u001b[1;32m     14\u001b[0m         \u001b[0;32mfor\u001b[0m \u001b[0mnode\u001b[0m \u001b[0;32min\u001b[0m \u001b[0mexplorationNodes\u001b[0m\u001b[0;34m:\u001b[0m\u001b[0;34m\u001b[0m\u001b[0;34m\u001b[0m\u001b[0m\n\u001b[0;32m---> 15\u001b[0;31m             \u001b[0;32mif\u001b[0m\u001b[0;34m(\u001b[0m\u001b[0mnp\u001b[0m\u001b[0;34m.\u001b[0m\u001b[0mallclose\u001b[0m\u001b[0;34m(\u001b[0m\u001b[0mnode\u001b[0m\u001b[0;34m.\u001b[0m\u001b[0mdata\u001b[0m\u001b[0;34m,\u001b[0m \u001b[0mboard\u001b[0m\u001b[0;34m)\u001b[0m\u001b[0;34m)\u001b[0m\u001b[0;34m:\u001b[0m\u001b[0;34m\u001b[0m\u001b[0;34m\u001b[0m\u001b[0m\n\u001b[0m\u001b[1;32m     16\u001b[0m                 \u001b[0msol\u001b[0m \u001b[0;34m=\u001b[0m \u001b[0;32mTrue\u001b[0m\u001b[0;34m\u001b[0m\u001b[0;34m\u001b[0m\u001b[0m\n\u001b[1;32m     17\u001b[0m                 \u001b[0mprint\u001b[0m\u001b[0;34m(\u001b[0m\u001b[0;34m\"--- %s seconds ---\"\u001b[0m \u001b[0;34m%\u001b[0m \u001b[0;34m(\u001b[0m\u001b[0mtime\u001b[0m\u001b[0;34m.\u001b[0m\u001b[0mtime\u001b[0m\u001b[0;34m(\u001b[0m\u001b[0;34m)\u001b[0m \u001b[0;34m-\u001b[0m \u001b[0mstartTime\u001b[0m\u001b[0;34m)\u001b[0m\u001b[0;34m)\u001b[0m\u001b[0;34m\u001b[0m\u001b[0;34m\u001b[0m\u001b[0m\n",
      "\u001b[0;32m<__array_function__ internals>\u001b[0m in \u001b[0;36mallclose\u001b[0;34m(*args, **kwargs)\u001b[0m\n",
      "\u001b[0;32m~/anaconda3/lib/python3.9/site-packages/numpy/core/numeric.py\u001b[0m in \u001b[0;36mallclose\u001b[0;34m(a, b, rtol, atol, equal_nan)\u001b[0m\n\u001b[1;32m   2254\u001b[0m \u001b[0;34m\u001b[0m\u001b[0m\n\u001b[1;32m   2255\u001b[0m     \"\"\"\n\u001b[0;32m-> 2256\u001b[0;31m     \u001b[0mres\u001b[0m \u001b[0;34m=\u001b[0m \u001b[0mall\u001b[0m\u001b[0;34m(\u001b[0m\u001b[0misclose\u001b[0m\u001b[0;34m(\u001b[0m\u001b[0ma\u001b[0m\u001b[0;34m,\u001b[0m \u001b[0mb\u001b[0m\u001b[0;34m,\u001b[0m \u001b[0mrtol\u001b[0m\u001b[0;34m=\u001b[0m\u001b[0mrtol\u001b[0m\u001b[0;34m,\u001b[0m \u001b[0matol\u001b[0m\u001b[0;34m=\u001b[0m\u001b[0matol\u001b[0m\u001b[0;34m,\u001b[0m \u001b[0mequal_nan\u001b[0m\u001b[0;34m=\u001b[0m\u001b[0mequal_nan\u001b[0m\u001b[0;34m)\u001b[0m\u001b[0;34m)\u001b[0m\u001b[0;34m\u001b[0m\u001b[0;34m\u001b[0m\u001b[0m\n\u001b[0m\u001b[1;32m   2257\u001b[0m     \u001b[0;32mreturn\u001b[0m \u001b[0mbool\u001b[0m\u001b[0;34m(\u001b[0m\u001b[0mres\u001b[0m\u001b[0;34m)\u001b[0m\u001b[0;34m\u001b[0m\u001b[0;34m\u001b[0m\u001b[0m\n\u001b[1;32m   2258\u001b[0m \u001b[0;34m\u001b[0m\u001b[0m\n",
      "\u001b[0;32m<__array_function__ internals>\u001b[0m in \u001b[0;36misclose\u001b[0;34m(*args, **kwargs)\u001b[0m\n",
      "\u001b[0;32m~/anaconda3/lib/python3.9/site-packages/numpy/core/numeric.py\u001b[0m in \u001b[0;36misclose\u001b[0;34m(a, b, rtol, atol, equal_nan)\u001b[0m\n\u001b[1;32m   2362\u001b[0m     \u001b[0mxfin\u001b[0m \u001b[0;34m=\u001b[0m \u001b[0misfinite\u001b[0m\u001b[0;34m(\u001b[0m\u001b[0mx\u001b[0m\u001b[0;34m)\u001b[0m\u001b[0;34m\u001b[0m\u001b[0;34m\u001b[0m\u001b[0m\n\u001b[1;32m   2363\u001b[0m     \u001b[0myfin\u001b[0m \u001b[0;34m=\u001b[0m \u001b[0misfinite\u001b[0m\u001b[0;34m(\u001b[0m\u001b[0my\u001b[0m\u001b[0;34m)\u001b[0m\u001b[0;34m\u001b[0m\u001b[0;34m\u001b[0m\u001b[0m\n\u001b[0;32m-> 2364\u001b[0;31m     \u001b[0;32mif\u001b[0m \u001b[0mall\u001b[0m\u001b[0;34m(\u001b[0m\u001b[0mxfin\u001b[0m\u001b[0;34m)\u001b[0m \u001b[0;32mand\u001b[0m \u001b[0mall\u001b[0m\u001b[0;34m(\u001b[0m\u001b[0myfin\u001b[0m\u001b[0;34m)\u001b[0m\u001b[0;34m:\u001b[0m\u001b[0;34m\u001b[0m\u001b[0;34m\u001b[0m\u001b[0m\n\u001b[0m\u001b[1;32m   2365\u001b[0m         \u001b[0;32mreturn\u001b[0m \u001b[0mwithin_tol\u001b[0m\u001b[0;34m(\u001b[0m\u001b[0mx\u001b[0m\u001b[0;34m,\u001b[0m \u001b[0my\u001b[0m\u001b[0;34m,\u001b[0m \u001b[0matol\u001b[0m\u001b[0;34m,\u001b[0m \u001b[0mrtol\u001b[0m\u001b[0;34m)\u001b[0m\u001b[0;34m\u001b[0m\u001b[0;34m\u001b[0m\u001b[0m\n\u001b[1;32m   2366\u001b[0m     \u001b[0;32melse\u001b[0m\u001b[0;34m:\u001b[0m\u001b[0;34m\u001b[0m\u001b[0;34m\u001b[0m\u001b[0m\n",
      "\u001b[0;32m<__array_function__ internals>\u001b[0m in \u001b[0;36mall\u001b[0;34m(*args, **kwargs)\u001b[0m\n",
      "\u001b[0;32m~/anaconda3/lib/python3.9/site-packages/numpy/core/fromnumeric.py\u001b[0m in \u001b[0;36mall\u001b[0;34m(a, axis, out, keepdims, where)\u001b[0m\n\u001b[1;32m   2436\u001b[0m \u001b[0;34m\u001b[0m\u001b[0m\n\u001b[1;32m   2437\u001b[0m     \"\"\"\n\u001b[0;32m-> 2438\u001b[0;31m     return _wrapreduction(a, np.logical_and, 'all', axis, None, out,\n\u001b[0m\u001b[1;32m   2439\u001b[0m                           keepdims=keepdims, where=where)\n\u001b[1;32m   2440\u001b[0m \u001b[0;34m\u001b[0m\u001b[0m\n",
      "\u001b[0;32m~/anaconda3/lib/python3.9/site-packages/numpy/core/fromnumeric.py\u001b[0m in \u001b[0;36m_wrapreduction\u001b[0;34m(obj, ufunc, method, axis, dtype, out, **kwargs)\u001b[0m\n\u001b[1;32m     85\u001b[0m                 \u001b[0;32mreturn\u001b[0m \u001b[0mreduction\u001b[0m\u001b[0;34m(\u001b[0m\u001b[0maxis\u001b[0m\u001b[0;34m=\u001b[0m\u001b[0maxis\u001b[0m\u001b[0;34m,\u001b[0m \u001b[0mout\u001b[0m\u001b[0;34m=\u001b[0m\u001b[0mout\u001b[0m\u001b[0;34m,\u001b[0m \u001b[0;34m**\u001b[0m\u001b[0mpasskwargs\u001b[0m\u001b[0;34m)\u001b[0m\u001b[0;34m\u001b[0m\u001b[0;34m\u001b[0m\u001b[0m\n\u001b[1;32m     86\u001b[0m \u001b[0;34m\u001b[0m\u001b[0m\n\u001b[0;32m---> 87\u001b[0;31m     \u001b[0;32mreturn\u001b[0m \u001b[0mufunc\u001b[0m\u001b[0;34m.\u001b[0m\u001b[0mreduce\u001b[0m\u001b[0;34m(\u001b[0m\u001b[0mobj\u001b[0m\u001b[0;34m,\u001b[0m \u001b[0maxis\u001b[0m\u001b[0;34m,\u001b[0m \u001b[0mdtype\u001b[0m\u001b[0;34m,\u001b[0m \u001b[0mout\u001b[0m\u001b[0;34m,\u001b[0m \u001b[0;34m**\u001b[0m\u001b[0mpasskwargs\u001b[0m\u001b[0;34m)\u001b[0m\u001b[0;34m\u001b[0m\u001b[0;34m\u001b[0m\u001b[0m\n\u001b[0m\u001b[1;32m     88\u001b[0m \u001b[0;34m\u001b[0m\u001b[0m\n\u001b[1;32m     89\u001b[0m \u001b[0;34m\u001b[0m\u001b[0m\n",
      "\u001b[0;31mKeyboardInterrupt\u001b[0m: "
     ]
    }
   ],
   "source": [
    "### BFS\n",
    "def bredthFirstSearch(puzzle: np.array, n, board) : \n",
    "    startTime = time.time()\n",
    "\n",
    "    sol = False\n",
    "    firstNode = Node(1,puzzle, board)\n",
    "    explorationNodes = [firstNode]\n",
    "    j = 0\n",
    "    i = 1\n",
    "    while(not sol):\n",
    "        j = j+1\n",
    "        listX = []\n",
    "        print(j, len(explorationNodes))\n",
    "        for node in explorationNodes:\n",
    "            if(np.allclose(node.data, board)):\n",
    "                sol = True\n",
    "                print(\"--- %s seconds ---\" % (time.time() - startTime))\n",
    "                return node.data\n",
    "               \n",
    "            else:\n",
    "               \n",
    "                index, feasibleMoves = neighbors(node.data, n)\n",
    "                toExplore =  makeMoves(node.data, index, feasibleMoves)\n",
    "               \n",
    "                for nodeX in toExplore:\n",
    "                    i = i+1\n",
    "                    if (not np.allclose(nodeX, node.getParent().data )):\n",
    "                        child = Node(i+1, nodeX, node)\n",
    "                        listX.append(child)\n",
    "               \n",
    "            explorationNodes = listX\n",
    "            \n",
    "print(bredthFirstSearch(s0, ndim, board))\n"
   ]
  },
  {
   "cell_type": "code",
   "execution_count": null,
   "id": "04da203a",
   "metadata": {},
   "outputs": [],
   "source": [
    "def depthFirstSearch(puzzle: np.array, n, board) : \n",
    "       startTime = time.time()\n",
    "       stack = [] \n",
    "       visited = set()\n",
    "       gol = Node(-1, board,None, [])\n",
    "       firstNode = Node(0, puzzle,gol, [])\n",
    "   stack.append(deepcopy(firstNode)) \n",
    "   while (len(stack) !=0): \n",
    "  \n",
    "      newNode = stack.pop() \n",
    "      if newNode not in visited:\n",
    "      \n",
    "         if (np.allclose(newNode.data, board)):\n",
    "            print(\"--- %s seconds ---\" % (time.time() - start_time))\n",
    "            return (newNode.name, newNode.data)\n",
    "            \n",
    "         visited.add(newNode) \n",
    "      index, moves_ = neighbors(newNode.data, n)\n",
    "      newNode.not_visited =  make_moves(newNode.data, index, moves_)\n",
    "      newNode.not_visited.reverse()\n",
    "      for neighbor in newNode.not_visited:\n",
    "         if not np.allclose(neighbor, newNode.parent.data):\n",
    "            neighborNode = Node(i, neighbor, newNode, [])\n",
    "            if neighborNode not in visited: \n",
    "               stack.append(neighborNode) "
   ]
  }
 ],
 "metadata": {
  "kernelspec": {
   "display_name": "Python 3 (ipykernel)",
   "language": "python",
   "name": "python3"
  },
  "language_info": {
   "codemirror_mode": {
    "name": "ipython",
    "version": 3
   },
   "file_extension": ".py",
   "mimetype": "text/x-python",
   "name": "python",
   "nbconvert_exporter": "python",
   "pygments_lexer": "ipython3",
   "version": "3.9.7"
  }
 },
 "nbformat": 4,
 "nbformat_minor": 5
}
