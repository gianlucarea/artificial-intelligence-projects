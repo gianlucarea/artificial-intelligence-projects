{
 "cells": [
  {
   "cell_type": "markdown",
   "id": "5f2fa6b9",
   "metadata": {},
   "source": [
    "### Homework 1 \n",
    "    8-puzzle & 15-puzzle  \n",
    "    Gianluca Rea"
   ]
  },
  {
   "cell_type": "markdown",
   "id": "d89a8f3f",
   "metadata": {},
   "source": [
    "### Libraries and variables definition"
   ]
  },
  {
   "cell_type": "code",
   "execution_count": 1,
   "id": "27a2d77f",
   "metadata": {},
   "outputs": [],
   "source": [
    "### Libraries import\n",
    "import numpy as np\n",
    "import random\n",
    "import time\n",
    "from copy import deepcopy"
   ]
  },
  {
   "cell_type": "code",
   "execution_count": 2,
   "id": "ac65351b",
   "metadata": {},
   "outputs": [],
   "source": [
    "### On the board an empty cell is represented using the value 0\n",
    "step = [\"up\",\"down\",\"left\",\"right\"];"
   ]
  },
  {
   "cell_type": "markdown",
   "id": "7978bbb4",
   "metadata": {},
   "source": [
    "### Functions and Heuristics"
   ]
  },
  {
   "cell_type": "code",
   "execution_count": 3,
   "id": "d071398c",
   "metadata": {},
   "outputs": [],
   "source": [
    "### The following two function are realized to prevent the creation of non solvible board \n",
    "def getInvCount(arr,n):\n",
    "    invCount = 0\n",
    "    emptyValue = 0\n",
    "    for i in range (0,n*n):\n",
    "        for j in range (i+1,n*n):\n",
    "            if arr[j] != emptyValue and arr[i] != emptyValue and arr[i] > arr[j]:\n",
    "                invCount += 1\n",
    "    return invCount\n",
    "\n",
    "def hasSolution(puzzle,n):\n",
    "    invCount = getInvCount([j for sub in puzzle for j in sub], n)\n",
    "    if(n%2==1): return (invCount % 2 == 0)    \n",
    "    blankPos = 4 - np.where(puzzle == 0)[0]\n",
    "    return (invCount % 2 != blankPos % 2)\n"
   ]
  },
  {
   "cell_type": "code",
   "execution_count": 4,
   "id": "dc55cde3",
   "metadata": {},
   "outputs": [],
   "source": [
    "### createWorld(N) create a board of dimension n using the previous \n",
    "### function to create a solvible one.\n",
    "\n",
    "def createWorld(n):\n",
    "    board =[i for i in range(1,n*n)]\n",
    "    board.append(0)\n",
    "    board = np.array(board).reshape(n,n)\n",
    "    while(True):\n",
    "        s0 = np.arange(n*n)\n",
    "        np.random.shuffle(s0)\n",
    "        s0 = s0.reshape(n,n)\n",
    "        if(hasSolution(s0, n)): break\n",
    "    return s0, board\n",
    "\n",
    "s0, board = (createWorld(4))"
   ]
  },
  {
   "cell_type": "code",
   "execution_count": 5,
   "id": "8ee9c2db",
   "metadata": {},
   "outputs": [
    {
     "name": "stdout",
     "output_type": "stream",
     "text": [
      "up : 0 1\n",
      "down : 2 1\n",
      "left : 1 0\n",
      "right : 1 2\n"
     ]
    }
   ],
   "source": [
    "### The function neighbors(state,n) given the current state and dimension n of the building \n",
    "### array of the matrix n gives back the position of the empty cell and the all the possible \n",
    "### steps even the ones not feasible \n",
    "\n",
    "def neighbors(state, n):\n",
    "    i, j = np.where(state == 0)\n",
    "    i, j = i[0], j[0]\n",
    "    up =  (i-1,j) if (i-1>-1) else (None)\n",
    "    down =  (i+1,j) if (i+1<n) else (None)\n",
    "    right =  (i,j+1) if (j+1<n) else (None)\n",
    "    left =  (i,j-1) if (j-1>-1) else (None)\n",
    "    \n",
    "    return (i,j),[up, down, left, right]\n",
    "\n",
    "for indx, val in enumerate(neighbors(s0, 4)[1]):\n",
    "    \n",
    "    if val != None:\n",
    "        i, j = val\n",
    "        print(step[indx],\":\", i, j)\n",
    "    else :\n",
    "        print(step[indx],\":\", None)\n",
    " "
   ]
  },
  {
   "cell_type": "code",
   "execution_count": 6,
   "id": "985048a0",
   "metadata": {},
   "outputs": [],
   "source": [
    "### Manahattan distance heuristic\n",
    "\n",
    "def manahattanDistance(state, n):\n",
    "    mDistances = 0\n",
    "    for index in range(1,n*n):\n",
    "        iGoal, jGoal = np.where(board == index)\n",
    "        iValue, jValue = np.where(state == index)\n",
    "        manahattanDistanceVar = abs(iValue - iGoal) + abs(jValue - jGoal)\n",
    "        mDistances +=  manahattanDistanceVar \n",
    "    return mDistances[0]\n"
   ]
  },
  {
   "cell_type": "code",
   "execution_count": 7,
   "id": "a5532067",
   "metadata": {},
   "outputs": [],
   "source": [
    "### Misplaced tiles heuristic\n",
    "### We use this heuristics to count how many pieces are misplaced \n",
    "\n",
    "def misplacedTiles(state, n):\n",
    "    misplacedTilesVar = 0\n",
    "    for indx, val in enumerate(state.reshape(n*n)):\n",
    "        if indx +1 != val and val != 0 :\n",
    "            misplacedTilesVar = misplacedTilesVar +1\n",
    "    \n",
    "    return misplacedTilesVar"
   ]
  },
  {
   "cell_type": "code",
   "execution_count": 8,
   "id": "f3e29039",
   "metadata": {},
   "outputs": [],
   "source": [
    "### The function makeMoves takes as input the state, the position of the empy cell and all the feasible moves\n",
    "### and as output a list with all the new states\n",
    "\n",
    "def makeMoves(boardState, positionZero , feasibleMoves ):\n",
    "    newStatesList = []\n",
    "    iZero, jZero = positionZero\n",
    "    for move in feasibleMoves:\n",
    "        if move != None:\n",
    "            i, j = move\n",
    "            newState = np.copy(boardState)\n",
    "            newState[iZero,jZero], newState[i,j] = newState[i,j], newState[iZero,jZero]\n",
    "            newStatesList.append(newState)\n",
    "            \n",
    "    return newStatesList"
   ]
  },
  {
   "cell_type": "markdown",
   "id": "7d9b4954",
   "metadata": {},
   "source": [
    "### Agents"
   ]
  },
  {
   "cell_type": "code",
   "execution_count": 9,
   "id": "586e9f2d",
   "metadata": {},
   "outputs": [],
   "source": [
    "### All the agents are optimised , for each new state created from the previous one\n",
    "### we check if the new state are equal to the current one. This way we don't explore every tree \n",
    "### saving memory and execution time\n",
    "\n",
    "### Agent 1 implements the Manahattan Distance heuristic\n",
    "### Agent 2 implements the Misplaced Tiles heuristic"
   ]
  },
  {
   "cell_type": "code",
   "execution_count": 10,
   "id": "fa4336a9",
   "metadata": {},
   "outputs": [],
   "source": [
    "def agent1(s0, n, board):\n",
    "    startTime = time.time()\n",
    "\n",
    "    currentState = s0\n",
    "    previousState = s0\n",
    "    i = 0\n",
    "    while (not np.allclose(board, currentState)):\n",
    "        i+=1   \n",
    "        positionZero, feasibleMoves = (neighbors(currentState, n ))                             \n",
    "        newStateBoards = makeMoves(currentState, positionZero , feasibleMoves)    \n",
    "        heuristicValues = []\n",
    "        boardStates = []\n",
    "        for newStateBoard in newStateBoards:\n",
    "            if not np.allclose(newStateBoard, previousState):\n",
    "                boardStates.append(newStateBoard)\n",
    "                heuristicValues.append(manahattanDistance(newStateBoard, n))\n",
    "        indexMin = random.choice([i for i, x in enumerate(heuristicValues) if x == min(heuristicValues)])\n",
    "        previousState = currentState\n",
    "        currentState = boardStates[indexMin]\n",
    "    print(\"--- %s seconds ---\" % (time.time() - startTime))\n",
    "\n",
    "    return(currentState,i)"
   ]
  },
  {
   "cell_type": "code",
   "execution_count": 11,
   "id": "54e92511",
   "metadata": {},
   "outputs": [],
   "source": [
    "def agent2(s0, n, board):\n",
    "    startTime = time.time()\n",
    "\n",
    "    currentState = s0\n",
    "    previousState = s0\n",
    "    i = 0\n",
    "    while (not np.allclose(board, currentState)):\n",
    "        i+=1   \n",
    "        positionZero, feasibleMoves = (neighbors(currentState, n ))                            \n",
    "        newStateBoards = makeMoves(currentState, positionZero, feasibleMoves)    \n",
    "        heuristicValues = []\n",
    "        boardStates = []\n",
    "        for newStateBoard in newStateBoards:\n",
    "            if not np.allclose(newStateBoard, previousState):\n",
    "                boardStates.append(newStateBoard)\n",
    "                heuristicValues.append(misplacedTiles(newStateBoard, n))\n",
    "        indexMin = random.choice([i for i, x in enumerate(heuristicValues) if x == min(heuristicValues)])\n",
    "        previousState = currentState\n",
    "        currentState = boardStates[indexMin]\n",
    "    print(\"--- %s seconds ---\" % (time.time() - startTime))\n",
    "\n",
    "   \n",
    "    return(currentState,i)"
   ]
  },
  {
   "cell_type": "markdown",
   "id": "fe030134",
   "metadata": {},
   "source": [
    "### Bredth First Search and Depth First Search Implementation"
   ]
  },
  {
   "cell_type": "code",
   "execution_count": 12,
   "id": "b496304d",
   "metadata": {},
   "outputs": [],
   "source": [
    "### The class node is needed for modeling the tree,\n",
    "### in this way we can easily implement a DFS and BFS\n",
    "\n",
    "class Node(object):\n",
    "    def __init__(self, name: int, data: np.array, parent, notVisited = None):\n",
    "        self.name = name\n",
    "        self.data = data\n",
    "        self.parent = parent\n",
    "        self.notVisited = notVisited\n",
    "\n",
    "    def getParent(self) :\n",
    "        return self.parent"
   ]
  },
  {
   "cell_type": "code",
   "execution_count": 13,
   "id": "37a276bb",
   "metadata": {},
   "outputs": [],
   "source": [
    "### BFS\n",
    "def bredthFirstSearch(puzzle: np.array, n, board) : \n",
    "    startTime = time.time()\n",
    "\n",
    "    sol = False\n",
    "    firstNode = Node(1,puzzle, board)\n",
    "    explorationNodes = [firstNode]\n",
    "    j = 0\n",
    "    i = 1\n",
    "    while(not sol):\n",
    "        j = j+1\n",
    "        listX = []\n",
    "        print(j, len(explorationNodes))\n",
    "        for node in explorationNodes:\n",
    "            if(np.allclose(node.data, board)):\n",
    "                sol = True\n",
    "                print(\"--- %s seconds ---\" % (time.time() - startTime))\n",
    "                return node.data\n",
    "               \n",
    "            else:\n",
    "               \n",
    "                index, feasibleMoves = neighbors(node.data, n)\n",
    "                toExplore =  makeMoves(node.data, index, feasibleMoves)\n",
    "               \n",
    "                for nodeX in toExplore:\n",
    "                    i = i+1\n",
    "                    if (not np.allclose(nodeX, node.getParent().data )):\n",
    "                        child = Node(i+1, nodeX, node)\n",
    "                        listX.append(child)\n",
    "               \n",
    "            explorationNodes = listX"
   ]
  },
  {
   "cell_type": "code",
   "execution_count": 14,
   "id": "c3cd2995",
   "metadata": {},
   "outputs": [],
   "source": [
    "def depthFirstSearch(puzzle: np.array, n, board) : \n",
    "    startTime = time.time()\n",
    "    stack = [] \n",
    "    visited = set()\n",
    "    gol = Node(-1, board,None, [])\n",
    "    firstNode = Node(0, puzzle,gol, [])\n",
    "    stack.append(deepcopy(firstNode)) \n",
    "    while (len(stack) !=0): \n",
    "        newNode = stack.pop() \n",
    "        if newNode not in visited:\n",
    "            if (np.allclose(newNode.data, board)):\n",
    "                print(\"--- %s seconds ---\" % (time.time() - startTime))\n",
    "                return (newNode.name, newNode.data)\n",
    "            visited.add(newNode) \n",
    "        index, feasibleMoves = neighbors(newNode.data, n)\n",
    "        newNode.notVisited =  makeMoves(newNode.data, index, feasibleMoves)\n",
    "        newNode.notVisited.reverse()\n",
    "        for neighbor in newNode.notVisited:\n",
    "            if not np.allclose(neighbor, newNode.parent.data):\n",
    "                neighborNode = Node(i, neighbor, newNode, [])\n",
    "                if neighborNode not in visited: \n",
    "                       stack.append(neighborNode) "
   ]
  },
  {
   "cell_type": "markdown",
   "id": "a9004779",
   "metadata": {},
   "source": [
    "# Tests"
   ]
  },
  {
   "cell_type": "code",
   "execution_count": 17,
   "id": "f9845ea7",
   "metadata": {},
   "outputs": [
    {
     "name": "stdout",
     "output_type": "stream",
     "text": [
      "\n",
      "--- 0.05060696601867676 seconds ---\n",
      "(array([[1, 2, 3],\n",
      "       [4, 5, 6],\n",
      "       [7, 8, 0]]), 110)\n",
      "\n",
      "--- 0.41634511947631836 seconds ---\n",
      "(array([[1, 2, 3],\n",
      "       [4, 5, 6],\n",
      "       [7, 8, 0]]), 4044)\n"
     ]
    }
   ],
   "source": [
    "#Easy example\n",
    "n = 3\n",
    "Q, board = (createWorld(n))\n",
    "print()\n",
    "print(agent1(Q, n, board))\n",
    "print()\n",
    "print(agent2(Q, n, board))"
   ]
  },
  {
   "cell_type": "code",
   "execution_count": 18,
   "id": "887aee7c",
   "metadata": {},
   "outputs": [
    {
     "name": "stdout",
     "output_type": "stream",
     "text": [
      "1 1\n",
      "2 4\n",
      "3 8\n",
      "4 8\n",
      "5 16\n",
      "6 32\n",
      "7 64\n",
      "8 80\n",
      "9 160\n",
      "10 272\n",
      "11 544\n",
      "12 752\n",
      "13 1504\n",
      "14 2384\n",
      "15 4768\n",
      "16 6896\n",
      "17 13792\n",
      "18 21200\n",
      "19 42400\n",
      "20 62576\n",
      "21 125152\n",
      "22 189776\n",
      "23 379552\n",
      "--- 53.93747282028198 seconds ---\n",
      "[[1 2 3]\n",
      " [4 5 6]\n",
      " [7 8 0]]\n"
     ]
    }
   ],
   "source": [
    "### We show number of iteration, cardinality of explored nodes, execution time\n",
    "### and solution\n",
    "print(bredthFirstSearch(Q, n, board))"
   ]
  },
  {
   "cell_type": "code",
   "execution_count": null,
   "id": "575247f2",
   "metadata": {},
   "outputs": [],
   "source": [
    "# Only in easy solvible board is possible to find a solution using DFS\n",
    "print(depthFirstSearch(Q, n, board))\n"
   ]
  },
  {
   "cell_type": "code",
   "execution_count": null,
   "id": "db9ad12c",
   "metadata": {},
   "outputs": [],
   "source": [
    "n = 4\n",
    "Q, board = (createWorld(n))\n",
    "print()\n",
    "print(agent1(Q, n, board))\n",
    "print()\n",
    "print(agent2(Q, n, board))\n"
   ]
  }
 ],
 "metadata": {
  "kernelspec": {
   "display_name": "Python 3 (ipykernel)",
   "language": "python",
   "name": "python3"
  },
  "language_info": {
   "codemirror_mode": {
    "name": "ipython",
    "version": 3
   },
   "file_extension": ".py",
   "mimetype": "text/x-python",
   "name": "python",
   "nbconvert_exporter": "python",
   "pygments_lexer": "ipython3",
   "version": "3.9.7"
  }
 },
 "nbformat": 4,
 "nbformat_minor": 5
}
