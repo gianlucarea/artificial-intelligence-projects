{
 "cells": [
  {
   "cell_type": "code",
   "execution_count": null,
   "id": "0f608e69",
   "metadata": {},
   "outputs": [],
   "source": [
    "import pandas as pd\n",
    "from sklearn.model_selection import train_test_split\n",
    "from sklearn.neural_network import MLPRegressor\n",
    "from sklearn.preprocessing import OneHotEncoder\n",
    "import joblib"
   ]
  },
  {
   "cell_type": "code",
   "execution_count": null,
   "id": "61923421",
   "metadata": {},
   "outputs": [],
   "source": [
    "#Read Databases\n",
    "dataset0 = pd.read_csv('dataset0.csv')\n",
    "dataset1 = pd.read_csv('dataset1.csv')\n",
    "dataset2 = pd.read_csv('dataset2.csv')"
   ]
  },
  {
   "cell_type": "code",
   "execution_count": null,
   "id": "20caa396",
   "metadata": {},
   "outputs": [],
   "source": [
    "datasetTotal = pd.concat([dataset0, dataset1, dataset2], ignore_index=True)\n",
    "print(len(dataset0.val[dataset0.val==27]))\n",
    "print(len(dataset1.val[dataset1.val==27]))\n",
    "print(len(dataset2.val[dataset2.val==27]))\n",
    "print(\"-\" * 5 + \" Break \" + \"-\" * 5) \n",
    "print(\"Total: \" + str(len(datasetTotal.val[datasetTotal.val==27])))\n"
   ]
  },
  {
   "cell_type": "code",
   "execution_count": null,
   "id": "4eb4ce01",
   "metadata": {},
   "outputs": [],
   "source": [
    "X = datasetTotal.iloc[:,0:-1]\n",
    "print(X)"
   ]
  },
  {
   "cell_type": "code",
   "execution_count": null,
   "id": "43762da3",
   "metadata": {},
   "outputs": [],
   "source": [
    "Y = datasetTotal.iloc[:, -1]\n",
    "print(Y)"
   ]
  },
  {
   "cell_type": "code",
   "execution_count": null,
   "id": "b74b7af2",
   "metadata": {},
   "outputs": [],
   "source": [
    "encoder = OneHotEncoder(handle_unknown=\"ignore\")\n",
    "XTrainEncoded = encoder.fit_transform(X)"
   ]
  },
  {
   "cell_type": "code",
   "execution_count": null,
   "id": "da2b0ed0",
   "metadata": {},
   "outputs": [],
   "source": [
    "XTrain, XTest, yTrain, yTest = train_test_split(XTrainEncoded, Y, test_size=0.2, random_state=42)"
   ]
  },
  {
   "cell_type": "code",
   "execution_count": null,
   "id": "b2197a89",
   "metadata": {},
   "outputs": [],
   "source": [
    "mlp_regr_1 = MLPRegressor(hidden_layer_sizes=(783,512,128), max_iter=200,activation='relu', verbose=True, ).fit(XTrain, yTrain)\n",
    "print(mlp_regr_1.score(XTest,yTest))\n",
    "filename = 'mlp_regr_1.sav'\n",
    "joblib.dump(mlp_regr_1, filename)"
   ]
  },
  {
   "cell_type": "code",
   "execution_count": null,
   "id": "f411479d",
   "metadata": {},
   "outputs": [],
   "source": [
    "mlp_regr_2 = MLPRegressor(hidden_layer_sizes=(783,512,256,128), max_iter=200,activation='relu', verbose=True, ).fit(XTrain, yTrain)\n",
    "print(mlp_regr_2.score(XTest,yTest))\n",
    "filename = 'mlp_regr_2.sav'\n",
    "joblib.dump(mlp_regr_2, filename)"
   ]
  },
  {
   "cell_type": "code",
   "execution_count": null,
   "id": "e31dc475",
   "metadata": {},
   "outputs": [],
   "source": [
    "mlp_regr_3 = MLPRegressor(hidden_layer_sizes=(783,512,256,128, 64), max_iter=200,activation='relu', verbose=True, ).fit(XTrain, yTrain)\n",
    "print(mlp_regr_3.score(XTest,yTest))\n",
    "filename = 'mlp_regr_3.sav'\n",
    "joblib.dump(mlp_regr_3, filename)"
   ]
  }
 ],
 "metadata": {
  "kernelspec": {
   "display_name": "Python 3 (ipykernel)",
   "language": "python",
   "name": "python3"
  },
  "language_info": {
   "codemirror_mode": {
    "name": "ipython",
    "version": 3
   },
   "file_extension": ".py",
   "mimetype": "text/x-python",
   "name": "python",
   "nbconvert_exporter": "python",
   "pygments_lexer": "ipython3",
   "version": "3.9.15"
  }
 },
 "nbformat": 4,
 "nbformat_minor": 5
}
